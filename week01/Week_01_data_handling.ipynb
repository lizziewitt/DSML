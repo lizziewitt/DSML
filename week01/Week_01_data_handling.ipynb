{
 "cells": [
  {
   "cell_type": "markdown",
   "metadata": {},
   "source": [
    "# Week 1 - Data structure, handling and visualisation"
   ]
  },
  {
   "cell_type": "markdown",
   "metadata": {},
   "source": [
    "<hr style=\"border:2px solid gray\">\n",
    "<a id='outline'></a>"
   ]
  },
  {
   "cell_type": "markdown",
   "metadata": {},
   "source": [
    "# Outline \n",
    "1. [Course Preliminaries](#section1)\n",
    "1. [Introduction to Jupyter Notebooks](#section2)\n",
    "1. [Data Handling using Pandas](#section3)\n",
    "1. [Pandas with Datasets on File](#section4)\n",
    "1. [Data Visualisation](#section5)\n",
    "1. [Further Exercises](#exercises)"
   ]
  },
  {
   "cell_type": "markdown",
   "metadata": {},
   "source": [
    "### Acknowledgements\n",
    "\n",
    "Numerous people have contributed to the development of the Jupyter notebooks for this undergraduate course. These include (in reverse alphabetical order): N.Wardle, F.Schaap, N.Reed, K.Joseph, C.Jing, A.Hussain, T.S.Evans, P.J.Dunne, D.J.Colling. The notebooks are derived from those used in the Masters  (MRes) course, [Machine Learning and Big Data in the Physical Sciences ](https://www.imperial.ac.uk/study/courses/postgraduate-taught/machine-learning-physical-sciences/), run here in the Physics department and we would like to thank those who created these MRes notebooks. Various other lecturers also provided us with access to their teaching material and we thank them for that.\n",
    "\n",
    "The course lecturers take responsibility for the form of the notebooks used in the course. We are always looking to improve the course and these notebooks in particular. Please let the course lecturers know of any problems and they would also welcome any constructive comments or suggestions. Comments can be provided through the discussion board on the Blackboard course site or direct to the course lecturers.    "
   ]
  },
  {
   "cell_type": "markdown",
   "metadata": {},
   "source": [
    "<hr style=\"border:2px solid gray\"> \n",
    "<a id='section1'></a>"
   ]
  },
  {
   "cell_type": "markdown",
   "metadata": {},
   "source": [
    "# Section One: Course Preliminaries [^](#outline)"
   ]
  },
  {
   "cell_type": "markdown",
   "metadata": {
    "slideshow": {
     "slide_type": "fragment"
    }
   },
   "source": [
    "## General Course Information\n",
    "\n",
    "Full and up to date information on how the course is run and assessed is given on the Blackboard site for this course. Announcements such as any last minute changes e.g. due to illness, will be on Blackboard. "
   ]
  },
  {
   "cell_type": "markdown",
   "metadata": {},
   "source": [
    "## Course Notebook Style\n",
    "\n",
    "Throughout the notebooks you will use in this course, a colour-coding scheme has been adopted to make it clear what content is non-examinable, optional, or exercises/examples you should work through. These are denoted as follows:-\n",
    "\n"
   ]
  },
  {
   "cell_type": "markdown",
   "metadata": {},
   "source": [
    "### Core Examinable Material\n",
    "\n",
    "This call is in standard uncoloured markdown (text) and code boxes. This is also the style you should use for answering questions.\n"
   ]
  },
  {
   "cell_type": "markdown",
   "metadata": {},
   "source": [
    "<div style=\"background-color: #FFF8C6\">\n",
    "\n",
    "### Optional, non-examinable\n",
    "\n",
    "This colour denotes content that is optional and non-examinable. Often useful for general awareness of machine learning more broadly, but not critical for the purposes of this course."
   ]
  },
  {
   "cell_type": "markdown",
   "metadata": {},
   "source": [
    "<div style=\"background-color:#FFCCCB\">\n",
    "\n",
    "\n",
    "### Non-examinable mathematics\n",
    "\n",
    "This colour denotes mathematics that is non-examinable, but important; you will not be expected to reproduce this mathematics in an exam, but it is in general important for your understanding of the content presented."
   ]
  },
  {
   "cell_type": "markdown",
   "metadata": {},
   "source": [
    "# <div style=\"background-color:#C2F5DD\">\n",
    "\n",
    "### Examples and exercises\n",
    "\n",
    "This colour denotes examples and exercises that you should work through. "
   ]
  },
  {
   "cell_type": "markdown",
   "metadata": {},
   "source": [
    "<div style=\"background-color: #C2D5BD\"> \n",
    "\n",
    "#### Optional exercise\n",
    "    \n",
    "Some exercises are optional and will be clearly labelled as such. In terms of assessment, these optional parts are not part of the syllabus so we assume students have not seen this material.\n",
    "\n",
    "You may also see **EFS** in text or code which is short for \"Exercise for Student\". These are also optional prompts, questions, exercises."
   ]
  },
  {
   "cell_type": "markdown",
   "metadata": {},
   "source": [
    "<div style=\"background-color:#efdff2\">\n",
    "\n",
    "### Appendices\n",
    "\n",
    "This colour denotes appendices; these contain longer pieces of non-examinable explanation or mathematics for your own interest and are not required to understand the material."
   ]
  },
  {
   "cell_type": "markdown",
   "metadata": {},
   "source": [
    "Keywords are denoted in **bold**. Each notebook contains a glossary at the end with a review of the definitions of key terms for easy reference."
   ]
  },
  {
   "cell_type": "markdown",
   "metadata": {},
   "source": [
    "<hr style=\"border:2px solid gray\"> \n",
    "<a id='section2'></a>"
   ]
  },
  {
   "cell_type": "markdown",
   "metadata": {},
   "source": [
    "# Section Two: Introduction to Jupyter Notebooks [^](#outline)"
   ]
  },
  {
   "cell_type": "markdown",
   "metadata": {},
   "source": [
    "Throughout your degree so far, the majority of you will have worked with a development environment such as Spyder or Visual Studio Code. In this course, each week you will have a **Jupyter Notebook** such as this one. These allow you to include text cells, images and so on alongside blocks of code, to write explanations of your code or include relevant theory. \n",
    "\n",
    "All the commands needed to manipulate these notebooks are available through a menu item. Some common actions will also have their own button. Under the `help` menu you will also find a large number of [keyboard shortcuts](https://towardsdatascience.com/jypyter-notebook-shortcuts-bf0101a98330). You don't need to learn any of these keyboard shortcuts but a dozen or so might prove useful. \n",
    "\n",
    "Broadly speaking, a Jupyter notebook is divided into **code** cells and **markdown** cells. You can insert a cell or change the type of cell you have by using the menu or by using some [keyboard shortcuts](https://towardsdatascience.com/jypyter-notebook-shortcuts-bf0101a98330)."
   ]
  },
  {
   "cell_type": "markdown",
   "metadata": {},
   "source": [
    "## Code Cells\n",
    "\n",
    "A **code cell** is where you write Python code. For example, this is a markdown (text) cell but the next cell is a code cell with some trivial python code - surely the first programme you ever write in any language?\n",
    "\n",
    "The code is only executed when you press `shift-return`, that is you hold down the `shift` key and press the `return` (enter) key. If you press `return` by itself, you will start new line *within* the cell, allowing you to write another line of code or a new paragraph within that one cell. "
   ]
  },
  {
   "cell_type": "code",
   "execution_count": null,
   "metadata": {
    "slideshow": {
     "slide_type": "subslide"
    }
   },
   "outputs": [],
   "source": [
    "print('Hello world')"
   ]
  },
  {
   "cell_type": "markdown",
   "metadata": {},
   "source": [
    "Note that the output from the code cell above is kept within that same code cell while this text is in a separate Markdown cell which was inserted after the code cell.\n"
   ]
  },
  {
   "cell_type": "markdown",
   "metadata": {},
   "source": [
    "Before you run the code in the code cell, a cell has an `In []` label beside it with no number. The first time you run the cell, the label will change to `In [1]`. Should you try to run it again it will become `In [2]` and so forth.  "
   ]
  },
  {
   "cell_type": "markdown",
   "metadata": {},
   "source": [
    "<div style=\"background-color:#C2F5DD\">\n",
    "\n",
    "Try rerunning the code cell above a couple of times. Perhaps change the string to something else. Note how the `In []` label changes."
   ]
  },
  {
   "cell_type": "markdown",
   "metadata": {},
   "source": [
    "#### Running Cells in Order\n",
    "**Warning** You can run any code cell in any order and each cell can be run as many times as you like. You can run a code cell, edit it, then run it again in which case the original version of that cell is no longer visible. You do not need to run the code cells in the order in which you read them, from top to bottom. These features are the biggest weaknesses of notebooks. For instance, you can't always tell from a quick look exactly what state your system is in e.g. which variables are defined and to what values. The only clue that code cells have been run in a non-standard order or multiple times is if the numbers in the  `In [2]` labels are not in sequence. \n",
    "\n",
    "My advice is to only ever run the cells in a Jupyter notebook once and in the normal order, from top to bottom. This is exactly what we will attempt to do with these notebooks in the presentations. \n",
    "\n",
    "Sometimes you do want to run a cell more than once.  You maybe something is not correct in the code in that cell and you need to take a few attempts to try different things before you find the correct code. The best option is just to work on one cell at a time and only move on once it is working as you want. \n",
    "\n",
    "If you ever get very very confused, use the `kernel` menu option to restart the kernel. This last resort will wipe all the values stored internally and start again as if this was the first time you opened your notebook.  However, this will wipe all your output so be very very sure there is nothing you want to keep before you do this. You will have to work through your notebook again executing each cell again. You can select groups of cells and run them all (in order), see under the `cell` menu item. "
   ]
  },
  {
   "cell_type": "markdown",
   "metadata": {},
   "source": [
    "#### Example of Code Cells\n",
    "To run the scripts in code cells, Jupyter notebooks accesses a Python environment on your local machine. The code has access to all the packages installed there. For example instance we can plot a noisy sine function. \n",
    "\n",
    "First we read in the packages we need and define the coordinates (X,y) of our data points. Don't worry about the commands we use here if you don't know them."
   ]
  },
  {
   "cell_type": "code",
   "execution_count": null,
   "metadata": {},
   "outputs": [],
   "source": [
    "import numpy as np\n",
    "# Using a capital letter X for an input/independent variable (set by the researcher) \n",
    "# and a lower case letter y for output/dependent variables\n",
    "# is a common machine learning convention we will be using in this course. \n",
    "X = np.random.uniform(-3,3,50)    \n",
    "y = np.sin(X) + np.random.normal(loc = 0, scale = 0.3, size = 50)"
   ]
  },
  {
   "cell_type": "markdown",
   "metadata": {},
   "source": [
    "Variables defined in one cell carry over into other cells and throughout the whole notebook. That way, you don't need to re-run all of your code to try something new. So we can now add a second code cell, with a single plot command, to do the plotting using the variables X and y defined in our previous code cell."
   ]
  },
  {
   "cell_type": "code",
   "execution_count": null,
   "metadata": {},
   "outputs": [],
   "source": [
    "import matplotlib.pyplot as plt\n",
    "\n",
    "plt.plot(X,y,'b.')\n",
    "plt.xlabel('X') # and don't forget to label your axes if you use a plot for an assessment\n",
    "plt.ylabel('y') # but labels are good practice anyway, they help you avoid mistakes which another reason why we demand labels"
   ]
  },
  {
   "cell_type": "markdown",
   "metadata": {},
   "source": [
    "<div style=\"background-color: #FFF8C6\">\n",
    "\n",
    "### Variable name conventions\n",
    "A common convention in machine learning texts, one which we will often use in this course, is \n",
    "* a capital letter $X$ for an input variable, that is an \"independent variable\" which is something set by the researcher.\n",
    "* a lower case letter $y$ for output variables, that is a \"dependent variable\" which is produced by the algorithm or equation.\n",
    "\n",
    "I recommend using long human readable names for variables in longer code, e.g. `Position` not `X` or `output` not `y`. It helps avoid using the same variable name twice by mistake and helps the programmer remember what they are doing. \n",
    "    \n",
    "There are several common naming conventions used in computer science such as `my_height` style with underscores or `myHeight` using capital letters at the start of each word. Whatever you decide to do, find an convention that works for you and stick with it."
   ]
  },
  {
   "cell_type": "markdown",
   "metadata": {},
   "source": [
    "## Markdown Cells\n",
    "\n",
    "As well as code cells, **Markdown cells** let us add text. Markdown is a simple language used to write text with basic formatting in these cells. You only need the very basic commands for this course.\n",
    "\n",
    "**You will need to be familiar with the basic features as in the exam you will write your answers in Markdown in a Jupyter notebook.** \n",
    "\n",
    "It might help you to have a summary of basic commands. A search for `markdown cheat sheet pdf` will find several but be warned there is no standard and there are many extensions of Markdown. Stick to the basics (a one summary no more) as that is all you will need. For instance I found the first page of [Broberg's guide](https://opensource.com/sites/default/files/gated-content/markdown_cheat_sheet_opensource.com_.pdf) useful or the [Basic Section](https://www.markdownguide.org/cheat-sheet/) of an online guide is fine."
   ]
  },
  {
   "cell_type": "markdown",
   "metadata": {},
   "source": [
    "You can change a cell type to Markdown using the ```Cell``` menu, using a toolbar option, or by using a keyboard shortcut (the default is ```m``` which means on a Windows machine press `esc` key followed by the `m` key).\n",
    "\n",
    "You can see a Markdown cell written in the markdown language by double clicking on a Markdown cell like this. Then you can edit it as you would in any text editor. To see how the Markdown cell will be displayed, you have to \"run\" the cell, i.e. press `shift-enter`."
   ]
  },
  {
   "cell_type": "markdown",
   "metadata": {},
   "source": [
    "You can write in *italics* by enclosing the relevant words in single \"*\" on either side, `*word*`.\n",
    "\n",
    "You can write in **bold** by using two \"*\" on either side of the text in question, `**word**`."
   ]
  },
  {
   "cell_type": "markdown",
   "metadata": {},
   "source": [
    "You can also `embed code` for illustration or description in a Markdown cell but such code is treated like other text and will *not* run. You need to put code in a code cell if you want to execute it.\n",
    "\n",
    "For short snippets of code inline, you enclose the text in single reverse quotes \"\\'\" so here I write \"\\`example\\`\" which appears as `example`.\n",
    "\n",
    "For longer code as a separate block, you wrapping your text in \"\\`\\`\\`\" (triple single reverse quotes) on either side which then produces:\n",
    "```\n",
    "print('Hello World!')\n",
    "return True\n",
    "```"
   ]
  },
  {
   "cell_type": "markdown",
   "metadata": {},
   "source": [
    "You can include [hyperlinks](https://en.wikipedia.org/wiki/Hyperlink) via `[Text for link](link address)` so that this links to the [Jupyter website](https://jupyter.org/).\n",
    "\n"
   ]
  },
  {
   "cell_type": "markdown",
   "metadata": {},
   "source": [
    "You can make **horizontal lines** using three underscores \"___\" separated on either side by blank lines\n",
    "\n",
    "___\n",
    "\n",
    "\n",
    "So this text is below the horizontal line but still in the same Markdown cell.\n"
   ]
  },
  {
   "cell_type": "markdown",
   "metadata": {},
   "source": [
    "You can make **headings** by starting a line with a number of \"#\" characters followed by a space; more # means a smaller heading\n",
    "\n",
    "# Big heading\n",
    "\n",
    "uses `# Big heading`.\n",
    "\n",
    "## Smaller heading\n",
    "\n",
    "uses `## Smaller heading`.\n",
    "\n",
    "### Smaller heading again\n",
    "\n",
    "uses `### Smaller heading`.\n",
    "\n",
    "#### Smaller again\n",
    "\n",
    "You get the idea."
   ]
  },
  {
   "cell_type": "markdown",
   "metadata": {},
   "source": [
    "You can write **bullet points** by starting a line with \"- \" or \"* \", and indent them for multiple layers. So if you write \n",
    "```\n",
    "* Bullet 1\n",
    "* Bullet 2\n",
    "    * Bullet 2a\n",
    "* Bullet 3\n",
    "```\n",
    "this will be displayed as\n",
    "* Bullet 1\n",
    "* Bullet 2\n",
    "    * Bullet 2a\n",
    "* Bullet 3\n"
   ]
  },
  {
   "cell_type": "markdown",
   "metadata": {},
   "source": [
    "You can also write **enumerated lists** by starting a line with \"1. \"; the specific number does not matter as numbering (and numbering of sublists) is determined automatically. So if you have\n",
    "\n",
    "```\n",
    "1. Thing One\n",
    "    1. Other Thing One\n",
    "1. Thing Two\n",
    "    1. Thing Two A\n",
    "    1. Thing Two B\n",
    "    1. Thing Two C\n",
    "1. Thing Three\n",
    "```\n",
    "it will be diplayed as\n",
    "1. Thing One\n",
    "    1. Other Thing One\n",
    "1. Thing Two\n",
    "    1. Thing Two A\n",
    "    1. Thing Two B\n",
    "    1. Thing Two C\n",
    "1. Thing Three"
   ]
  },
  {
   "cell_type": "markdown",
   "metadata": {
    "slideshow": {
     "slide_type": "slide"
    }
   },
   "source": [
    "Finally, you can also **include images** in text cells. We will save the plot we made earlier using a code cell, then manually add it into a text cell. \n",
    "\n",
    "Note that the objects `X`, `y`, and `plt` has not been forgotten so there is no need to repeat code already entered above."
   ]
  },
  {
   "cell_type": "code",
   "execution_count": null,
   "metadata": {},
   "outputs": [],
   "source": [
    "# Note this assumes that variables X and y were defined above\n",
    "# and we are also assuming that plt is the shorthand for the matplotlib library that has already been imported.\n",
    "# A quick check at cells above will confirm this provided those code cells have already been run before this code cell.\n",
    "plt.plot(X, y, 'r.')  # I changed the colour for no good reason\n",
    "plt.savefig('test_plot.png') # File will be saved in same location as this python notebook, try and find it."
   ]
  },
  {
   "cell_type": "markdown",
   "metadata": {},
   "source": [
    "You include images using HTML style tags: e.g. ```<img src='test_plot.png' align='center'>``` <img src='test_plot.png' align='center' height=10 />"
   ]
  },
  {
   "cell_type": "markdown",
   "metadata": {},
   "source": [
    "I found it tricky to [control the size of images](https://stackoverflow.com/questions/41598916/resize-the-image-in-jupyter-notebook-using-markdown) (the `height=300` option in the `img` tag doesn't seem to work) but this worked for me ```<div> <img src='test_plot.png' align='center' width=\"500\"/> </div>```\n",
    "<div>\n",
    "<img src='test_plot.png' align='center' width=\"200\"/>\n",
    "</div>"
   ]
  },
  {
   "cell_type": "markdown",
   "metadata": {},
   "source": [
    "You can also write **LaTeX** in Markdown cells to get equations in your cells.\n",
    "\n",
    "*Inline* equations (i.e. in the middle of the text) are written as \n",
    "```$e^{i\\pi} + 1 = 0$``` which gives $e^{i\\pi} + 1  = 0$ in the middle of this sentence.\n",
    "\n",
    "If you want you equation as a separate centred block then you write\n",
    "```\n",
    "$$\n",
    "e^x \\approx \\sum_{i = 0}^\\infty \\frac{x^n}{n!}\n",
    "$$\n",
    "```\n",
    "which gives\n",
    "$$\n",
    "e^x \\approx \\sum_{i = 0}^\\infty \\frac{x^n}{n!}\n",
    "$$\n",
    "and so on.\n"
   ]
  },
  {
   "cell_type": "markdown",
   "metadata": {},
   "source": [
    "You can find **more information on Markdown** for Jupyter Notebooks [here](https://jupyter-notebook.readthedocs.io/en/stable/examples/Notebook/Working%20With%20Markdown%20Cells.html)."
   ]
  },
  {
   "cell_type": "markdown",
   "metadata": {},
   "source": [
    "<div style=\"background-color: #FFF8C6\">\n",
    "\n",
    "### The Markdown language\n",
    "\n",
    "Jupyter notebooks use **[Markdown](https://en.wikipedia.org/wiki/Markdown)** for cells containing text. Markdown is a simple langauge (formally a \"markup language\") that can be written in a simple text editor. The Markdown scripts represents text with basic formatting. Started in 2004, the basic Markdown is similar to the original HTML language used to write the first web pages. \n",
    "    \n",
    "In fact, there is no one standard Markdown. There are sometimes alternatives for some basic commands and sometimes one can often use the full range of HTML commands e.g. as used here for inserting an image in a Markdown cell of a Jupyter Notebook. So on this course, stick with the basics and use information specifically on [Markdown for Jupyter Notebooks](https://jupyter-notebook.readthedocs.io/en/stable/examples/Notebook/Working%20With%20Markdown%20Cells.html)."
   ]
  },
  {
   "cell_type": "markdown",
   "metadata": {},
   "source": [
    "## Summary\n",
    "\n",
    "In this section, you have been introduced to Jupyter Notebooks. This has included:\n",
    "\n",
    "* Differences between Markdown and code cells\n",
    "* Some of the Markdown you can use to format your cells\n",
    "\n",
    "The next section will discuss the importance of data structures and plotting in data science."
   ]
  },
  {
   "cell_type": "markdown",
   "metadata": {},
   "source": [
    "<!--\n",
    "<hr style=\"border:2px solid gray\"> <a id='section3'></a>\n",
    "# Section Three: Consistent Data Structures and Clear Visualisation [^](#outline)\n",
    "In data science, you organise your data in some kind of **data structure**. This might be like a table, a dictionary, a list, etc. The specific choice of structure for your data depends on your proble, but it is also a very important choice. The ring type of structure for your data can cause issues, and inconsistency in your data structure can cause problems that you might not realise.\n",
    "\n",
    "* In 2020, the UK government subcontracted analysis of COVID tests to third-party organisations, who provided their results in CSV (comma separated value) files. Problems arose when Public Health England (PHE) used an automated process to put data into Excel templates, using .xls spreadsheets (as opposed to the newer .xlsx file format). However, XLS files have a maximum row limit of 65,000 rows. Any data after that is reached was just lost. As a result, in a week more than 20% of data was lost (~15,000 unreported cases vs ~50,000 reported cases). The old data file format used caused a significant issue (read more about this [here](https://www.bbc.co.uk/news/technology-54423988)).\n",
    "-->\n",
    "\n",
    "<hr style=\"border:2px solid gray\"> \n",
    "<a id='section3'></a>"
   ]
  },
  {
   "cell_type": "markdown",
   "metadata": {},
   "source": [
    "# Section Three: Data Handling using Pandas [^](#outline)"
   ]
  },
  {
   "cell_type": "markdown",
   "metadata": {},
   "source": [
    "[**Pandas**](https://pandas.pydata.org/) is a well known and popular Python library for data manipulation, analysis and display. You will find a lot of help for pandas on the web. \n",
    "\n",
    "Pandas has a particular way of working that is distinct from traditional computer languages such as python but which echoes that used in other systems used for data manipulation and statistics, such as the [`R` language](https://en.wikipedia.org/wiki/R_(programming_language)). In particular, in pandas, we deal with objects known as \"Series\" and \"**DataFrames**\". \n",
    "\n",
    "* A Series is a labelled collection of data, similar to a dictionary. Each element can have a different data type. \n",
    "* A DataFrame is a 2D labelled data structure, where each column can have a different data type. Each row of a DataFrame can be thought of as a Series (and indeed, if you select a single row of a DataFrame it is returned as a Series). \n",
    "\n",
    "DataFrames are more useful and more commonly used, so we will focus our discussion just on DataFrames. "
   ]
  },
  {
   "cell_type": "markdown",
   "metadata": {},
   "source": [
    "## Creating a DataFrame\n",
    "\n",
    "A DataFrame is a tabular data structure, similar to an Excel spreadsheet. The data is organised by rows and columns. These are labelled:\n",
    "* Rows are labelled by an **index**\n",
    "* Columns are labelled by **headers**\n",
    "\n",
    "Data can be accessed according to the headers or the index. Instead of just being numerical indices, like you have with e.g. numpy arrays, these can be descriptive strings. As a result, you can access data in a descriptive way. \n",
    "\n",
    "The cell below shows a couple examples of how you can construct DataFrames."
   ]
  },
  {
   "cell_type": "code",
   "execution_count": null,
   "metadata": {},
   "outputs": [],
   "source": [
    "import pandas as pd\n",
    "\n",
    "# Method 1: Set data as dictionary structure. Data formatted in columns\n",
    "\n",
    "data={'Name':[\"Rex\",\"Bruno\",\"Biffa\",\"Queeny\", \"Bob\", \"Sheiba\", \"Crusoe\"],\n",
    "     'Breed':[\"bulldog\",\"labrador\",\"doberman\",\"poodle\", \"pug\", \"labrador\", \"scotty\"],\n",
    "     'Age':[2,4,12,0.5, 7, 10, 7]}\n",
    "\n",
    "dogs=pd.DataFrame(data)\n",
    "\n",
    "display(dogs)\n",
    "\n",
    "# Method 2: Splitting Headers and data. Data formatted in rows\n",
    "\n",
    "d=[[\"Rex\",\"bulldog\",2],\n",
    "    [\"Bruno\",\"labrador\",4],\n",
    "    [\"Biffa\", \"doberman\", 12],\n",
    "    [\"Queeny\",\"poodle\", 0.5],\n",
    "    [\"Bob\", \"pug\", 7],\n",
    "    [\"Sheiba\", \"labrador\", 10],\n",
    "    [\"Crusoe\",\"scotty\",7]]\n",
    "\n",
    "Headers=['Name', 'Breed', 'Age']\n",
    "\n",
    "dogs2=pd.DataFrame(data=d,columns=Headers)\n",
    "\n",
    "display(dogs2)\n"
   ]
  },
  {
   "cell_type": "markdown",
   "metadata": {},
   "source": [
    "The first column is the index. We can select data based on the header (`display` gives nicer formatting than `print`):"
   ]
  },
  {
   "cell_type": "code",
   "execution_count": null,
   "metadata": {},
   "outputs": [],
   "source": [
    "dogs.Name"
   ]
  },
  {
   "cell_type": "markdown",
   "metadata": {},
   "source": [
    "\n",
    "More generally you can use `[]` to select data, a bit like you do for slicing numpy arrays. \n",
    "\n",
    "* Passing a single label in `[]` to a DataFrame selects a column; `df['A']` is equivalent to `df.A`.\n",
    "* Passing a slice in `[]` selects matching rows, e.g. `df[2:4]` gives you the rows matching the slice 2:4. \n"
   ]
  },
  {
   "cell_type": "code",
   "execution_count": null,
   "metadata": {},
   "outputs": [],
   "source": [
    "display(dogs['Breed'])\n",
    "\n",
    "display(dogs[2:4])\n"
   ]
  },
  {
   "cell_type": "markdown",
   "metadata": {},
   "source": [
    "An alternative way to access data is through the `loc` and `iloc` methods, standing for location and integer location respectively. \n",
    "\n",
    "* `loc` takes headers or indices **as seen in the DataFrame**, e.g. if we had a non-numeric index we could use the labels in the index\n",
    "* `iloc` takes numeric indices, like numpy arrays\n",
    "\n",
    "For both methods, the syntax is the same:\n",
    "\n",
    "* First argument specifies the desired row(s)\n",
    "* Second argument specifices the desired column(s)"
   ]
  },
  {
   "cell_type": "code",
   "execution_count": null,
   "metadata": {},
   "outputs": [],
   "source": [
    "display(dogs.loc[0,:]) \n",
    "\n",
    "display(dogs.loc[:,'Breed'])\n",
    "\n",
    "display(dogs.loc[2:4,:])\n",
    "\n",
    "display(dogs.loc[:,['Breed','Age']])\n",
    "\n"
   ]
  },
  {
   "cell_type": "markdown",
   "metadata": {},
   "source": [
    "You can add a new column or row to a DataFrame by indexing by the desired column name or row index, and setting it equal to a list of values equal to the number of rows/columns in the DataFrame."
   ]
  },
  {
   "cell_type": "code",
   "execution_count": null,
   "metadata": {},
   "outputs": [],
   "source": [
    "dogs.loc[:,\"Length\"]=[50,100,105,85, 40,100,80]\n",
    "dogs.loc[len(dogs)] = ['Daisy','papillon',3.5, 35]\n",
    "display(dogs)\n"
   ]
  },
  {
   "cell_type": "markdown",
   "metadata": {},
   "source": [
    "You can add new rows to a DataFrame, combining pandas objects using `concat`:"
   ]
  },
  {
   "cell_type": "code",
   "execution_count": null,
   "metadata": {},
   "outputs": [],
   "source": [
    "new_row = pd.DataFrame({'Name':'Ham','Breed':'shiba inu','Age':10,'Length':40},index = [len(dogs)])\n",
    "\n",
    "dogs = pd.concat([dogs, new_row])\n",
    "display(dogs)"
   ]
  },
  {
   "cell_type": "markdown",
   "metadata": {},
   "source": [
    "Our default index here is just a numerical index; we can change it to something more useful, like the Name column. This way, someone can access all the data about a given dog by querying that index."
   ]
  },
  {
   "cell_type": "code",
   "execution_count": null,
   "metadata": {},
   "outputs": [],
   "source": [
    "dogs = dogs.set_index('Name')\n",
    "\n",
    "display(dogs)"
   ]
  },
  {
   "cell_type": "markdown",
   "metadata": {},
   "source": [
    "You can also create columns that are combinations of other columns: "
   ]
  },
  {
   "cell_type": "code",
   "execution_count": null,
   "metadata": {},
   "outputs": [],
   "source": [
    "dogs[\"combination\"]=dogs.Age*dogs.Length\n",
    "display(dogs)"
   ]
  },
  {
   "cell_type": "markdown",
   "metadata": {},
   "source": [
    "## Manipulation of DataFrames\n",
    "\n",
    "There are many ways you can sort and filter DataFrames to find the information you want. You can do simple indexing like you might with numpy arrays:\n",
    "\n"
   ]
  },
  {
   "cell_type": "code",
   "execution_count": null,
   "metadata": {},
   "outputs": [],
   "source": [
    "display(dogs[dogs.Age > 6])"
   ]
  },
  {
   "cell_type": "markdown",
   "metadata": {},
   "source": [
    "You can find a lot of information about how you can slice and query for data, as well as adding new data to your DataFrames, in the pandas [User Guide](https://pandas.pydata.org/docs/user_guide/index.html). A good place to get started is the [10 minutes to pandas](https://pandas.pydata.org/docs/user_guide/10min.html) guide."
   ]
  },
  {
   "cell_type": "markdown",
   "metadata": {},
   "source": [
    "<div style=\"background-color:#C2F5DD\">\n",
    "\n",
    "### Exercise 1\n",
    "\n",
    "Using the dogs DataFrame we defined in Section Three, try the following operations:\n",
    "\n",
    "* Define a new column for with the header \"Weight\"; make up some data of your own to put in this column\n",
    "* Make up some data for another dog, and add it to the DataFrame. Remember: we have set the index of the DataFrame to be the name, so the DataFrame you define for the new dog must have its name as its index.\n",
    "* Define a column that is the weight per unit length\n",
    "* Calculate the mean and standard deviation of each of the numeric quantities"
   ]
  },
  {
   "cell_type": "code",
   "execution_count": null,
   "metadata": {},
   "outputs": [],
   "source": [
    "# Add a column for Weight\n"
   ]
  },
  {
   "cell_type": "code",
   "execution_count": null,
   "metadata": {},
   "outputs": [],
   "source": [
    "# Add data for another dog\n",
    "\n"
   ]
  },
  {
   "cell_type": "code",
   "execution_count": null,
   "metadata": {},
   "outputs": [],
   "source": [
    "# Define a weight per unit length column\n",
    "\n"
   ]
  },
  {
   "cell_type": "code",
   "execution_count": null,
   "metadata": {},
   "outputs": [],
   "source": [
    "# Calculate the mean and standard deviation for each of the numeric quantities\n",
    "\n"
   ]
  },
  {
   "cell_type": "markdown",
   "metadata": {},
   "source": [
    "### Summary\n",
    "\n",
    "In this section, we have covered some basics of `pandas`, a very useful data library in Python. This has included:\n",
    "\n",
    "* Defining a DataFrame\n",
    "* Printing the contents of a DataFrame in a nice way\n",
    "* Finding slices of a DataFrame\n",
    "* Adding new rows and columns to a DataFrame\n",
    "\n",
    "The following section will some more advanced techniques using pandas, including reading and writing DataFrames to and from files. "
   ]
  },
  {
   "cell_type": "markdown",
   "metadata": {},
   "source": [
    "<hr style=\"border:2px solid gray\"> \n",
    "<a id='section4'></a>"
   ]
  },
  {
   "cell_type": "markdown",
   "metadata": {},
   "source": [
    "## Section Four: Pandas with Datasets on File  [^](#outline)"
   ]
  },
  {
   "cell_type": "markdown",
   "metadata": {},
   "source": [
    "So far we have dealt with a very simple DataFrame that we have defined ourselves, to demonstrate how you can add data to an existing DataFrame. In reality, the main use of pandas is for big DataFrames, and handling a lot of data at once. Typically these will be stored in a file. You can save pandas DataFrames in a number of different ways, such as:\n",
    "* Excel spreadsheets\n",
    "* csv files\n",
    "* JSON files\n",
    "\n",
    "and more. The full list of input/output functions can be found in [the documentation](https://pandas.pydata.org/docs/reference/io.html), but here we will deal with a file saved in an .csv file. First, we load the file."
   ]
  },
  {
   "cell_type": "code",
   "execution_count": null,
   "metadata": {},
   "outputs": [],
   "source": [
    "concrete_data = pd.read_csv('concrete_data.csv')\n",
    "display(concrete_data)"
   ]
  },
  {
   "cell_type": "markdown",
   "metadata": {},
   "source": [
    "As you can see, this dataset has more than 1000 entries, with 9 columns per entry. This dataset is a sample machine learning dataset from the UC Irvine Machine Learning Repository, and can be found [here](https://archive.ics.uci.edu/dataset/165/concrete+compressive+strength). It can be used to test machine learning methods to predict the compressive strength of concrete, from the age of the concrete and ingredients used to make it. \n",
    "\n",
    "Column units are as follows:\n",
    "* First 7 columns (Cement to Fine Aggregate): $\\text{kg m}^{-3}$. Note this is not density, but the weight of the relevant ingredient in a $\\text{m}^3$ mixture of that concrete sample.\n",
    "* Age: days\n",
    "* Strength: MPa\n",
    "\n",
    "\n",
    "\n"
   ]
  },
  {
   "cell_type": "markdown",
   "metadata": {},
   "source": [
    "We can directly do plotting from Pandas, e.g. plotting the Cement content against the concrete strength:"
   ]
  },
  {
   "cell_type": "code",
   "execution_count": null,
   "metadata": {},
   "outputs": [],
   "source": [
    "concrete_data.plot(x='Cement',y = 'Strength',kind='scatter')"
   ]
  },
  {
   "cell_type": "markdown",
   "metadata": {},
   "source": [
    "Or we can plot a histogram of the cement content:\n"
   ]
  },
  {
   "cell_type": "code",
   "execution_count": null,
   "metadata": {},
   "outputs": [],
   "source": [
    "concrete_data.hist('Cement',bins = 20)"
   ]
  },
  {
   "cell_type": "markdown",
   "metadata": {},
   "source": [
    "These are very basic plots that you can produce quickly to explore a dataset. Later in this workbook you will see how we can produce clear and professional plots. \n",
    "\n",
    "There are lots of options for visualisation from Pandas DataFrames directly that we don't have the time to cover in detail here, see [the documentation](https://pandas.pydata.org/docs/user_guide/visualization.html) for further details."
   ]
  },
  {
   "cell_type": "markdown",
   "metadata": {},
   "source": [
    "<div style=\"background-color:#C2F5DD\">\n",
    "\n",
    "### Exercise 2\n",
    "\n",
    "Use some of the pandas plotting methods to visualise some of the data from our dogs DataFrame in the previous section. Try:\n",
    "\n",
    "* Scatter plot of one quantity against another\n",
    "* Histogram of one of the quantities"
   ]
  },
  {
   "cell_type": "code",
   "execution_count": null,
   "metadata": {},
   "outputs": [],
   "source": [
    "# Scatter plot code\n",
    "\n"
   ]
  },
  {
   "cell_type": "code",
   "execution_count": null,
   "metadata": {},
   "outputs": [],
   "source": [
    "# Histogram code\n",
    "\n"
   ]
  },
  {
   "cell_type": "markdown",
   "metadata": {},
   "source": [
    "<div style=\"background-color:#C2F5DD\">\n",
    "\n",
    "End of exercise 2"
   ]
  },
  {
   "cell_type": "markdown",
   "metadata": {},
   "source": [
    "Say we wanted to look for concrete samples with a Water content of greater than 100 $\\text{kg m}^{-3}$, but an age of less than 100 days. We can index in a boolean fashion, as described before, or use `query`. `query` performs the same actions as indexing with a boolean condition, but is slightly faster due to the specific implementation. This is only generally noticeable for large DataFrames, but it is good practise in general. "
   ]
  },
  {
   "cell_type": "code",
   "execution_count": null,
   "metadata": {},
   "outputs": [],
   "source": [
    "display(concrete_data.query('Water > 100 and Age < 100'))"
   ]
  },
  {
   "cell_type": "markdown",
   "metadata": {},
   "source": [
    "In general, `query` is very powerful and a useful tool for filtering and selecting data. It returns a DataFrame consisting of the rows of the original DataFrame that satisfy the boolean condition(s) passed. Read more in [the documentation](https://pandas.pydata.org/docs/reference/api/pandas.DataFrame.query.html)."
   ]
  },
  {
   "cell_type": "markdown",
   "metadata": {},
   "source": [
    "<div style=\"background-color:#C2F5DD\">\n",
    "\n",
    "### Exercise 3\n",
    "\n",
    "Using `query`, find concrete samples less than 30 days old and plot a histogram of the Strength, using 20 bins."
   ]
  },
  {
   "cell_type": "code",
   "execution_count": null,
   "metadata": {},
   "outputs": [],
   "source": [
    "# Your query\n",
    "\n",
    "\n",
    "# Your histogram\n"
   ]
  },
  {
   "cell_type": "markdown",
   "metadata": {},
   "source": [
    "<div style=\"background-color:#C2F5DD\">\n",
    "\n",
    "End of exercise 3"
   ]
  },
  {
   "cell_type": "markdown",
   "metadata": {},
   "source": [
    "One other very useful way to filter data is `groupby`\n",
    "* You can group by values in one column\n",
    "* Useful for datasets with categorical or discrete data in at least one column\n",
    "* Useful to process different data sets in one DataFrame quickly\n",
    "\n",
    "For example, with our concrete data we could group by the age and find the mean and standard deviation of the strength."
   ]
  },
  {
   "cell_type": "code",
   "execution_count": null,
   "metadata": {},
   "outputs": [],
   "source": [
    "means = concrete_data.groupby('Age')['Strength'].mean()\n",
    "stds = concrete_data.groupby('Age')['Strength'].std()\n",
    "\n",
    "display(means)\n",
    "display(stds)"
   ]
  },
  {
   "cell_type": "markdown",
   "metadata": {},
   "source": [
    "`groupby` is especially useful when you have a complex operation that you want to apply to different groups of data separately, but still quickly. \n",
    "\n",
    "You can define your own function to use in `groupby` as well. This is beyond the scope of this course but you can find more details about `groupby` in [the documentation](https://pandas.pydata.org/pandas-docs/stable/user_guide/groupby.html)."
   ]
  },
  {
   "cell_type": "markdown",
   "metadata": {},
   "source": [
    "We can find some useful summary statistics for each column using `describe`. This gives us the following statistics per column:\n",
    "\n",
    "* `count`: the number of entries in that column\n",
    "* `mean`: the mean value \n",
    "* `std`: the standard deviation \n",
    "* `min`: the minimum value\n",
    "* `25%`: the lower quartile value\n",
    "* `50%`: the median value\n",
    "* `75%`: the upper quartile value\n",
    "* `max`: the maximum value"
   ]
  },
  {
   "cell_type": "code",
   "execution_count": null,
   "metadata": {},
   "outputs": [],
   "source": [
    "concrete_data.describe()"
   ]
  },
  {
   "cell_type": "markdown",
   "metadata": {},
   "source": [
    "We can add a new column that is the sum of the total ingredients in each concrete sample, by summing the ingredient columns:"
   ]
  },
  {
   "cell_type": "code",
   "execution_count": null,
   "metadata": {},
   "outputs": [],
   "source": [
    "concrete_data['Ingredient Total'] = concrete_data.loc[:,['Cement','Blast Furnace Slag','Fly Ash','Water','Superplasticizer','Coarse Aggregate','Fine Aggregate']].sum(axis = 1)"
   ]
  },
  {
   "cell_type": "markdown",
   "metadata": {},
   "source": [
    "Finally, we can save our updated data to a new Excel spreadsheet. "
   ]
  },
  {
   "cell_type": "code",
   "execution_count": null,
   "metadata": {},
   "outputs": [],
   "source": [
    "concrete_data.to_excel('concrete_data_new.xlsx')"
   ]
  },
  {
   "cell_type": "markdown",
   "metadata": {},
   "source": [
    "<div style=\"background-color: #FFF8C6\">\n",
    "\n",
    "When we save structured data such as DataFrames or dictionaries to file, we must undergo a process called **data serialisation**. You don't in general need to know how this works, just that there are different methods. In Python, the default method is using the **pickle** module; if you ever save a dictionary to a .npy file using numpy, it implicitly uses pickle. This process is referred to as pickling the data. In several places you will be given data saved to a .npy file that is contained within a dictionary. To access this data, you will need the following call signature:\n",
    "\n",
    "`data = np.load('file/name',allow_pickle = True).item()`"
   ]
  },
  {
   "cell_type": "markdown",
   "metadata": {},
   "source": [
    "### Summary\n",
    "\n",
    "In this section we have seen some more pandas syntax, including: \n",
    "\n",
    "* loading and saving DataFrames from and to .csv files\n",
    "* querying DataFrames to use multiple Boolean conditions\n",
    "* Grouping data and finding summary statistics of each group\n",
    "* Finding total summary statistics of our dataset\n",
    "\n",
    "The following section will discuss how you can use `matplotlib` make good, clear plots of your data."
   ]
  },
  {
   "cell_type": "markdown",
   "metadata": {},
   "source": [
    "<hr style=\"border:2px solid gray\"> \n",
    "<a id='section5'></a>"
   ]
  },
  {
   "cell_type": "markdown",
   "metadata": {},
   "source": [
    "# Section Five: Data Visualisation [^](#outline)\n",
    "\n",
    "In data science, it is not enough just to display your DataFrames; instead, you need to visualise your data. To really understand your data, a good clear plot is key. In this section we recap some of the options available to you in `matplotlib`. In particular, we will emphasise producing **professional** looking plots, to make sure your results are as clear as they can be."
   ]
  },
  {
   "cell_type": "markdown",
   "metadata": {},
   "source": [
    "Both plots below are showing the same set of results from an experiment you might be familiar with: determining the acceleration due to gravity on earth $g$, from measuring the time period of oscillation of a simple pendulum as a function of length. These measurements should obey the standard simple pendulum equation:\n",
    "\n",
    "\\begin{equation*}\n",
    "T = 2\\pi\\sqrt{\\frac{L}{g}}\n",
    "\\end{equation*}\n",
    "where the symbols are defined as:\n",
    "* $T$ is the time period of oscillation and has units of $\\text{s}$\n",
    "* $L$ is the length of the pendulum and has units of $\\text{cm}$\n",
    "* $g$ is the acceleration due to graivy on Earth and has units of $\\text{m s}^{-2}$\n",
    "\n",
    "The aim of such an experiment is to determine a value for $g$, by fitting a straight line to $\\sqrt{L}$ against $T$ and finding the gradient.\n",
    "\n",
    "Which of these two plots is better?"
   ]
  },
  {
   "cell_type": "markdown",
   "metadata": {},
   "source": [
    "<table><tr>\n",
    "<td><img src=Week1_plots/default_pendulum.png align='center' height=400/></td>\n",
    "<td><img src=Week1_plots/example_pendulum.png align='center' height=400/></td>\n",
    "</tr></table>\n"
   ]
  },
  {
   "cell_type": "markdown",
   "metadata": {},
   "source": [
    "<!-- Hopefully, the answer should be obvious. There are many things you need to be aware of when making plots, such as:\n",
    "\n",
    "* Axis labels, including units\n",
    "* Font sizes of numbers of axes, labels, titles\n",
    "* Error bars\n",
    "* Plot resolution -->\n",
    "<!-- * Legends -->\n",
    "\n",
    "Hopefully, the answer should be obvious. The left plot is produced using just matplotlib's default formatting, while the right has been customised. The main things to consider when you are making plots are as follows:\n",
    "\n",
    "* Readibility: is the plot easy to read?\n",
    "* Clarity: is the information clearly conveyed?\n",
    "\n",
    "There are many factors that contribute to both of these, including but not limited to:\n",
    "\n",
    "* Axis labels, including units\n",
    "* Font sizes for labels, titles, numbers on axes\n",
    "* Error bars\n",
    "* Plot resolution\n",
    "* Legends\n",
    "\n",
    "and more. In this section we will recap the basics of matplotlib, and show you how you can make clear and professional-looking plots to visualise data.\n",
    "\n"
   ]
  },
  {
   "cell_type": "markdown",
   "metadata": {},
   "source": [
    "### Basics of matplotlib \n",
    "\n",
    "You will have seen matplotlib before in Years 1 and 2, so we will just very quickly recap some basics before we show you some examples of things to improve your plots. \n",
    "\n",
    "You can create plots very simply and very quickly if you want, by just importing `matplotlib.pyplot` and running e.g. `plt.plot`, as you can see in the cell below."
   ]
  },
  {
   "cell_type": "code",
   "execution_count": null,
   "metadata": {},
   "outputs": [],
   "source": [
    "import matplotlib.pyplot as plt\n",
    "import numpy as np\n",
    "\n",
    "X = np.linspace(-10,10,100)\n",
    "y = X**2\n",
    "\n",
    "plt.plot(X,y)"
   ]
  },
  {
   "cell_type": "markdown",
   "metadata": {},
   "source": [
    "This produces a very simple plot, using matplotlib default formatting. It is also often useful to display multiple plots side-by-side, above one another, or in an array. This can be done easily in matplotlib using the `plt.subplots` function. \n",
    "\n",
    "You call this function as `plt.subplots(m, n)`, which will produce a `Figure` with `Axes` arranged in a grid with `m` rows and `n` columns. \n",
    "\n",
    "This allows you to create common layouts of subplots quickly; see the example cell below."
   ]
  },
  {
   "cell_type": "code",
   "execution_count": null,
   "metadata": {},
   "outputs": [],
   "source": [
    "fig, axs = plt.subplots(2,2)\n",
    "axs[0,0].plot(X,X**2)\n",
    "axs[0,1].plot(X,X*np.sin(X))\n",
    "axs[1,0].plot(X,X*X*np.sin(X))\n",
    "axs[1,1].plot(X,X*X*X*np.sin(X)**2)"
   ]
  },
  {
   "cell_type": "markdown",
   "metadata": {},
   "source": [
    "Conveniently, we can access each subplot individually via `axs`, the array of `Axes` produced by `plt.subplots`. This allows us to individually modify each axis, e.g. setting axis labels or making specific plots. We can also use LaTeX in axis labels and titles, as you can see in the example below."
   ]
  },
  {
   "cell_type": "code",
   "execution_count": null,
   "metadata": {},
   "outputs": [],
   "source": [
    "fig, axs = plt.subplots(2,2)\n",
    "axs[0,0].plot(X,X**2)\n",
    "axs[0,1].plot(X,X*np.sin(X))\n",
    "axs[1,0].plot(X,X*X*np.sin(X))\n",
    "axs[1,1].plot(X,X*X*X*np.sin(X)**2)\n",
    "\n",
    "axs[0,0].set_ylabel('$X^2$')\n",
    "axs[0,1].set_ylabel('$X\\sin(X)$')\n",
    "axs[1,0].set_ylabel('$X^2\\sin(X)$')\n",
    "axs[1,1].set_ylabel('$X^3\\sin(X)$')"
   ]
  },
  {
   "cell_type": "markdown",
   "metadata": {},
   "source": [
    "The default plotting scheme is useful, but not ideal. Clearly, you can see that there are issues with overlapping the axis labels in subplots. One way we can get around this is using `fig.tight_layout()`, which gets matplotlib to automatically adjust spacing parameters to try to fit everything on the plot without overlaps. However, in general we may need to adjust placement of plots using `fig.subplots_adjust`, or by composing the position of subplots manually. See [the documentation](https://matplotlib.org/stable/tutorials/intermediate/tight_layout_guide.html) for more details."
   ]
  },
  {
   "cell_type": "code",
   "execution_count": null,
   "metadata": {},
   "outputs": [],
   "source": [
    "fig, axs = plt.subplots(2,2)\n",
    "axs[0,0].plot(X,X**2)\n",
    "axs[0,1].plot(X,X*np.sin(X))\n",
    "axs[1,0].plot(X,X*X*np.sin(X))\n",
    "axs[1,1].plot(X,X*X*X*np.sin(X)**2)\n",
    "\n",
    "axs[0,0].set_ylabel('$X^2$')\n",
    "axs[0,1].set_ylabel('$X\\sin(X)$')\n",
    "axs[1,0].set_ylabel('$X^2\\sin(X)$')\n",
    "axs[1,1].set_ylabel('$X^3\\sin(X)$')\n",
    "\n",
    "fig.tight_layout()"
   ]
  },
  {
   "cell_type": "markdown",
   "metadata": {},
   "source": [
    "<div style=\"background-color: #FFF8C6\">\n",
    "\n",
    "While we define a `Figure` and `Axes` manually to customise things, they are implicitly created when you run `plt.plot`. You can access the most recently created `Figure` or `Axes` using the functions `plt.gcf()` and `plt.gca()`, standing for 'get current figure' and 'get current axes' respectively.\n",
    "\n",
    "How does running `plt.plot` correspond to us manually creating a `Figure` and `Axes`? The steps of `plt.plot(X,y)` depend on the current state, and is decided according to the following steps:\n",
    "\n",
    "* No existing `Figure` or `Axes`: define a `Figure`, add an `Axes`, and plot on that `Axes`. Equivalent to `plt.figure().add_subplot(111).plot(X,y)`\n",
    "\n",
    "* Existing `Figure`, but no existing `Axes`: add an `Axes` to the `Figure`, and plot on the new `Axes`. Equivalent to `plt.gcf().add_subplot(111).plot(X,y)`\n",
    "\n",
    "* Existing `Figure` and `Axes`: get the current (most recently created) `Axes` and plot on that `Axes`. Equivalent to `plt.gca().plot(X,y)`\n",
    "\n",
    "By manually defining our `Figure` and `Axes`, we have more freedom to compose plots how we wish. Having specific names for different `Axes` is particularly useful, as it allows us to specify which one we wish to plot or add a label to etc. \n",
    "\n",
    "More explanation of this can be found in the matplotlib [User Guide](https://matplotlib.org/stable/users/explain/api_interfaces.html)."
   ]
  },
  {
   "cell_type": "markdown",
   "metadata": {},
   "source": [
    "We can do more than just define an array of subplots, if we add axes manually. For example, we can add inset axes to a plot using `add_axes`:"
   ]
  },
  {
   "cell_type": "code",
   "execution_count": null,
   "metadata": {},
   "outputs": [],
   "source": [
    "fig, ax = plt.subplots(1,1)\n",
    "ax.plot(X,X**2)\n",
    "ax_small = fig.add_axes([0.3,0.6,0.4,0.2])\n",
    "ax_small.plot(np.linspace(-2.5,2.5,100),np.sin(np.linspace(-2.5,2.5,100)**2))\n"
   ]
  },
  {
   "cell_type": "markdown",
   "metadata": {},
   "source": [
    "There are many things you can do to build sets of subplots. You can find more information in the [User Guide](https://matplotlib.org/stable/tutorials/intermediate/arranging_axes.html). \n"
   ]
  },
  {
   "cell_type": "markdown",
   "metadata": {},
   "source": [
    "<div style=\"background-color:#C2F5DD\">\n",
    "\n",
    "### Exercise 4\n",
    "\n",
    "Using `subplots`, produce an array of 6 plots for polynomials of order 1 to 6. Make sure of the following formatting points:\n",
    "\n",
    "* Make sure plots are nicely spaced\n",
    "* Label all axes\n"
   ]
  },
  {
   "cell_type": "code",
   "execution_count": null,
   "metadata": {},
   "outputs": [],
   "source": [
    "# Your code here\n",
    "\n"
   ]
  },
  {
   "cell_type": "markdown",
   "metadata": {},
   "source": [
    "<div style=\"background-color:#C2F5DD\">\n",
    "\n",
    "End of exercise 4"
   ]
  },
  {
   "cell_type": "markdown",
   "metadata": {},
   "source": [
    "### Histograms\n",
    "\n",
    "In data science you will often need to produce histograms, to look at the frequency of data points in different bins. Histogramming in Python is straightforward:\n",
    "\n",
    "* calculating bins and counts can be done using `np.histogram`\n",
    "* plotting a histogram is easy using `plt.hist` in matplotlib; implicitly, this uses `np.histogram` to calculate the values then effectively uses `bar` to plot the histogram.\n",
    "\n",
    "We can generate some random Gaussian data and plot that:"
   ]
  },
  {
   "cell_type": "code",
   "execution_count": null,
   "metadata": {},
   "outputs": [],
   "source": [
    "x_data = np.random.normal(loc = 1, scale = 0.5, size = 100000)\n",
    "\n",
    "plt.hist(x_data,bins = 20)"
   ]
  },
  {
   "cell_type": "markdown",
   "metadata": {},
   "source": [
    "Notice before the plot, the Jupyter Notebook output shows two arrays; these are the counts in each bin and the bin edges respectively. If you want to be able to use this data later, it is useful to assign it to variables. The third object returned by `plt.hist` is the array of artists that are on the plot, one corresponding to each bin.\n",
    "\n",
    "We can also manually specify bins rather than just requesting a specific number of bins. It is also useful to pass the `edgecolor` parameter to `plt.hist`, as this makes it easier to see the distinction between different bins:"
   ]
  },
  {
   "cell_type": "code",
   "execution_count": null,
   "metadata": {},
   "outputs": [],
   "source": [
    "bins = [-4,-0.25,0,0.5,1,1.5,1.75,2.5,3]\n",
    "\n",
    "counts, bins, patches = plt.hist(x_data,bins = bins,edgecolor='black')"
   ]
  },
  {
   "cell_type": "markdown",
   "metadata": {},
   "source": [
    "You can also specify the alpha value of a histogram, which determines the transparency. This allows you to plot two histograms on top of one-another:"
   ]
  },
  {
   "cell_type": "code",
   "execution_count": null,
   "metadata": {},
   "outputs": [],
   "source": [
    "x_data2 = np.random.normal(loc = -1,scale = 1.5, size = 100000)\n",
    "\n",
    "bins = np.linspace(-5,5,100)\n",
    "\n",
    "counts_1, bins, patches_1 = plt.hist(x_data,bins = bins, edgecolor='black',label='Dataset 1',alpha = 0.5)\n",
    "counts_2, bins, patches_2 = plt.hist(x_data2, bins = bins, edgecolor='black', label = 'Dataset 2',alpha = 0.5)\n",
    "plt.xlabel('X')\n",
    "plt.ylabel('Frequency')\n",
    "plt.legend(loc='best')"
   ]
  },
  {
   "cell_type": "markdown",
   "metadata": {},
   "source": [
    "Finally, if you have calculated histogram bins and counts per bin using `np.histogram`, you can plot them easily in a number of ways:"
   ]
  },
  {
   "cell_type": "code",
   "execution_count": null,
   "metadata": {},
   "outputs": [],
   "source": [
    "fig, axs = plt.subplots(1,3,figsize = (12,4))\n",
    "\n",
    "counts, bins = np.histogram(x_data, bins = 100)\n",
    "\n",
    "axs[0].stairs(counts, bins)\n",
    "axs[0].set_title('plt.stairs',fontsize = 20)\n",
    "axs[0].set_xlabel('X')\n",
    "axs[0].set_ylabel('Frequency')\n",
    "\n",
    "axs[1].bar((bins[1:]+bins[:-1])/2,counts,width = np.diff(bins))\n",
    "axs[1].set_title('plt.bar',fontsize = 20)\n",
    "axs[1].set_xlabel('X')\n",
    "axs[1].set_ylabel('Frequency')\n",
    "\n",
    "axs[2].hist(bins[:-1], bins, weights = counts)\n",
    "axs[2].set_title('plt.hist using \\n weights = counts',fontsize = 20)\n",
    "axs[2].set_xlabel('X')\n",
    "axs[2].set_ylabel('Frequency')\n",
    "\n",
    "fig.tight_layout()"
   ]
  },
  {
   "cell_type": "markdown",
   "metadata": {},
   "source": [
    "You can see more information in the matplotlib [documentation](https://matplotlib.org/stable/api/_as_gen/matplotlib.pyplot.hist.html)."
   ]
  },
  {
   "cell_type": "markdown",
   "metadata": {},
   "source": [
    "<div style=\"background-color:#C2F5DD\">\n",
    "\n",
    "### Exercise 5\n",
    "\n",
    "Using the concrete dataset from the previous section, perform the following actions:\n",
    "\n",
    "* Use `query` to find all rows with Age $\\lt 30$, and another `query` to separately find all rows with Age $\\geq 30$.\n",
    "* Plot a histogram of Strength for these two DataFrames on the same axes. Make sure to use the same bins for both of them. "
   ]
  },
  {
   "cell_type": "code",
   "execution_count": null,
   "metadata": {},
   "outputs": [],
   "source": [
    "# Define the two DataFrames using query\n",
    "\n",
    "\n"
   ]
  },
  {
   "cell_type": "code",
   "execution_count": null,
   "metadata": {},
   "outputs": [],
   "source": [
    "# Make the plot\n",
    "\n"
   ]
  },
  {
   "cell_type": "markdown",
   "metadata": {},
   "source": [
    "<div style=\"background-color:#C2F5DD\">\n",
    "\n",
    "End of exercise 5"
   ]
  },
  {
   "cell_type": "markdown",
   "metadata": {},
   "source": [
    "### How to make a professional looking plot\n",
    "\n",
    "So far we have talked about how you can build plots, but we also want to talk about how to make plots look good. Namely, how we can present information clearly and precisely to somebody else looking at our plots. A good plot can do the work of paragraphs of explanation, so it is important to understand how we can best visualise our data.\n",
    "\n",
    "There are many things to consider when it comes to making a good looking plot:\n",
    "\n",
    "* Colours: do the colours you have used look the same or do they complement each other? Are they sufficiently contrasting to be easy to look at? Can people with colour blindness see the difference?\n",
    "* Shapes: would it help to use different types of line (continuous, dashed, dots) or different shaped markers (symbols) for points (circles, squares)?\n",
    "* Size: is the `Figure` big enough for everything on the plot? Are the font sizes for labels, titles and tick labels large enough to read? \n",
    "* Clutter: have you included too much information on one plot? Too many data sets, too many text labels, long labels in the legend.\n",
    "* Labels: are your labels clear? Do they describe your axes? Do they have units?\n",
    "* Clarity: how easy is it to read values off of the plot? Have you hidden some points underneath something else?\n",
    "\n",
    "A good test is to ask the following questions: \n",
    ">If the figure would still work if printed in black-and-white? \n",
    "\n",
    "In the old days, colour figures were often printed on paper in black and white to keep costs down but today this thought experiment can help you make good choice for a figure.\n",
    "\n",
    "In this section, you will see how you can go from the default matplotlib formatting to the custom formatted plot you saw above. "
   ]
  },
  {
   "cell_type": "markdown",
   "metadata": {},
   "source": [
    "#### Basic plot first\n",
    "The data for the plots shown above can be loaded from the .npy file, \"pendulum_data.npy\". This is a dictionary, containing:\n",
    "* Measurements of pendulum length, in $\\text{cm}$\n",
    "* Measurements of pendulum time period, in $\\text{s}$\n",
    "* The measured value of $g$, the acceleration due to gravity on Earth, from a fit to the data, in $\\text{ms}^{-2}$\n",
    "* The uncertainty on this measured value of $g$, in $\\text{ms}^{-2}$\n",
    "* The uncertainty in length measurements, in $\\text{cm}$\n",
    "* The uncertainty in time period measurements, in $\\text{s}$\n",
    "\n",
    "Note: The data was fitted with a linear relationship between the period $T$ and $\\sqrt{L}$, the square root of the pendulum length. $g$ is inversely proportional to the square of the gradient of this linear model. Fit parameters were calculated using `iminuit`, a library you will see in Week 4 of this course."
   ]
  },
  {
   "cell_type": "code",
   "execution_count": null,
   "metadata": {},
   "outputs": [],
   "source": [
    "pendulum_data = np.load('pendulum_data.npy',allow_pickle = True).item()\n",
    "\n",
    "X = pendulum_data['length']\n",
    "y = pendulum_data['period']\n",
    "g = pendulum_data['g']\n",
    "sig_g = pendulum_data['sig_g']\n",
    "xerr = pendulum_data['length_err']\n",
    "yerr = pendulum_data['period_err']"
   ]
  },
  {
   "cell_type": "markdown",
   "metadata": {},
   "source": [
    "To start with, we will use the matplotlib defaults and do a simple plot of our data, its error, and the fit, with descriptive labels on each axis. We will also include a simple legend."
   ]
  },
  {
   "cell_type": "code",
   "execution_count": null,
   "metadata": {},
   "outputs": [],
   "source": [
    "plt.errorbar(X, y, xerr = xerr, yerr = yerr, fmt = '.',label='Data')\n",
    "plt.xlabel('Length [cm]')\n",
    "plt.ylabel('Period [s]')\n",
    "plt.title('Simple pendulum')\n",
    "plt.plot(X, 2*np.pi*np.sqrt(X/100/g),label = 'Fit') # Dividing X by 100 because it is currently in cm, but needs to be in m for the formula\n",
    "plt.legend(loc='upper left')\n"
   ]
  },
  {
   "cell_type": "markdown",
   "metadata": {},
   "source": [
    "This plot conveys the most basic information: your measurements, their uncertainty, and shows the line that has been fitted to the data. However, there are a few issues:\n",
    "\n",
    "* Font sizes for labels and titles are small compared to the graph\n",
    "* No labelling of your fit parameters\n",
    "* Colours are just matplotlib default; we can do better\n",
    "* It can be a bit difficult to read values in between the main labels\n",
    "\n",
    "We will tackle each of these in turn."
   ]
  },
  {
   "cell_type": "markdown",
   "metadata": {},
   "source": [
    "#### Increase the size of text elements\n",
    "Firstly, it is easy to increase the fontsize of axis labels, titles, and tick labels:"
   ]
  },
  {
   "cell_type": "code",
   "execution_count": null,
   "metadata": {},
   "outputs": [],
   "source": [
    "plt.errorbar(X, y, xerr = xerr, yerr = yerr, fmt = '.',label='Data')\n",
    "plt.xlabel('Length [cm]',fontsize = 16)\n",
    "plt.ylabel('Period [s]',fontsize= 16)\n",
    "plt.title('Simple pendulum',fontsize= 20)\n",
    "plt.plot(X, 2*np.pi*np.sqrt(X/100/g),label = 'Fit')\n",
    "plt.legend(loc='upper left',fontsize = 12)\n",
    "plt.tick_params(axis='both',labelsize = 12) # changes the fontsize of the numbers on the axes\n"
   ]
  },
  {
   "cell_type": "markdown",
   "metadata": {},
   "source": [
    "We can improve the legend entry for the fit, by using formatted strings. \n",
    "\n",
    "You will also see that currently the fit is in the legend before the data, despite the fact that we plot the data before the fit. This is because matplotlib has a default priority for how handles are ordered in legends; first it orders by type of plot, then by order plotted. As a result, output from `plot` is always plotted before `scatter` or `errorbar`, for example. We have to manually specify the legend order to get around this.\n",
    "\n",
    "To make things easier, we will move to manually defining a figure and an axis."
   ]
  },
  {
   "cell_type": "code",
   "execution_count": null,
   "metadata": {},
   "outputs": [],
   "source": [
    "fig = plt.figure(figsize = (6,4)) # set a figure size similar to the default\n",
    "ax = fig.add_subplot(111)\n",
    "ax.errorbar(X, y, xerr = xerr, yerr = yerr, fmt = '.',label='Data')\n",
    "ax.set_xlabel('Length [cm]',fontsize = 16)\n",
    "ax.set_ylabel('Period [s]',fontsize= 16)\n",
    "ax.set_title('Simple pendulum',fontsize= 20)\n",
    "\n",
    "# Now show the fitted equation in the label for the fit \n",
    "ax.plot(X, 2*np.pi*np.sqrt(X/100/g),label = 'Fit g = {:.2f} $\\pm$ {:.2f} ms$^{{-2}}$'.format(g, sig_g))\n",
    "\n",
    "\n",
    "# A more sophisticated way to arrange legend, not usre it is any better here!\n",
    "handles, labels = ax.get_legend_handles_labels() # Get the list of handles and labels of all plots in the Axes\n",
    "ax.legend(handles[::-1],labels[::-1],loc='upper left',fontsize = 12) # Manually specify legend handles & labels; opposite order to default here\n",
    "\n",
    "\n",
    "ax.tick_params(axis='both',labelsize = 12)\n"
   ]
  },
  {
   "cell_type": "markdown",
   "metadata": {},
   "source": [
    "The choice of the label for the fit is what is key here. The line is as follows:\n",
    "\n",
    "`label = 'Fit g = {:.2f} $\\pm$ {:.2f} ms$^{{-2}}$'.format(g, sig_g)`\n",
    "\n",
    "The '{}'.format(a) notation is the preferred notation in matplotlib to format your strings with variables. Essentially, `format` looks through your string for '{}' instances and inserts the variables you pass through `format` into those positions in your string. For example:"
   ]
  },
  {
   "cell_type": "code",
   "execution_count": null,
   "metadata": {},
   "outputs": [],
   "source": [
    "'g = {}'.format(g)"
   ]
  },
  {
   "cell_type": "markdown",
   "metadata": {},
   "source": [
    "We can improve the formatting of the variables passed by placing formatting arguments inside the {}. For example, to format float values to have 2 decimal places, we can use `{:.2f}`:"
   ]
  },
  {
   "cell_type": "code",
   "execution_count": null,
   "metadata": {},
   "outputs": [],
   "source": [
    "'g = {:.2f}'.format(g)"
   ]
  },
  {
   "cell_type": "markdown",
   "metadata": {},
   "source": [
    "There are many ways you can format strings. You can find some more information on this in the [Python documentation](https://docs.python.org/3/library/string.html#format-string-syntax)."
   ]
  },
  {
   "cell_type": "markdown",
   "metadata": {},
   "source": [
    "#### Improving the look\n",
    "The next step is to improve the aesthetics of our plot. We are going to change/add\n",
    "\n",
    "* Colours\n",
    "* Error bars caps\n",
    "* A grid\n",
    "* Minor ticks\n",
    "* Other tick formatting"
   ]
  },
  {
   "cell_type": "code",
   "execution_count": null,
   "metadata": {},
   "outputs": [],
   "source": [
    "\n",
    "fig = plt.figure(figsize = (6,4)) # set a figure size similar to the default\n",
    "ax = fig.add_subplot(111)\n",
    "\n",
    "# If you want a grid, make sure you add this first.\n",
    "ax.grid() # Make sure we add the grid before our other plots, otherwise it will be displayed on top of other elements\n",
    "\n",
    "ax.errorbar(X, y, xerr = xerr, yerr = yerr, fmt = '.',label='Data',color='#D55E00',capsize = 3)\n",
    "ax.set_xlabel('Length [cm]',fontsize = 16)\n",
    "ax.set_ylabel('Period [s]',fontsize= 16)\n",
    "ax.set_title('Simple pendulum',fontsize= 20)\n",
    "ax.plot(X, 2*np.pi*np.sqrt(X/100/g),label = 'Fit g = {:.2f} $\\pm$ {:.2f} ms$^{{-2}}$'.format(g, sig_g),color='black')\n",
    "\n",
    "handles, labels = ax.get_legend_handles_labels()\n",
    "\n",
    "ax.legend(handles[::-1],labels[::-1],loc='upper left',fontsize = 12, framealpha = 1) # Framealpha prevents grid lines from showing through legend\n",
    "\n",
    "ax.tick_params(axis='both',labelsize = 12, direction='in',top = True, right = True, which='both')\n",
    "\n",
    "# These next three lines make more sophisticated ticks on the axes\n",
    "# I would normally put imports at the start but I place this import just before I use the imported methods.\n",
    "from matplotlib.ticker import MultipleLocator # makes placing ticks easier; can put major/minor ticks at fixed multiples\n",
    "\n",
    "ax.xaxis.set_minor_locator(MultipleLocator(0.5)) # tells it to place the small ticks every 0.5 on the horizontal axis\n",
    "ax.yaxis.set_minor_locator(MultipleLocator(0.02)) # tells it to place the small ticks every 0.02 on the vertical axis\n",
    "\n",
    "\n",
    "\n"
   ]
  },
  {
   "cell_type": "markdown",
   "metadata": {},
   "source": [
    "Suddenly, with a bit of formatting, our plot looks a lot nicer. We will quickly break down each step of this."
   ]
  },
  {
   "cell_type": "markdown",
   "metadata": {},
   "source": [
    "**Colour** choice is very important, especially when you are showing multiple things at once:\n",
    "* Python talks American English so it uses `color` as a keyword\n",
    "* Colours need to contrast enough to be clearly distinguishable \n",
    "* Colours need to be easy to look at together, i.e. not too much contrast\n",
    "* Ideally need to be colour blind friendly, e.g. not red/green next to one another. Find more information about colour blind design online, e.g. [here](https://www.datylon.com/blog/data-visualization-for-colorblind-readers).\n",
    "\n",
    "You always have seven basic colours indicated by basic letters `r`, `g`, `b` (blue), `c`, `m`, `y`, `w` and `k` (black). However, these are not always good choices e.g. easy to choose colours that look the same to someone with colour blindness. You can specify any colour using RGB codes so `color='#D55E00'` indicates a RGB code in hex (indicated by the `#` in the string) and the [appendix](#appendices) gives some example of colours that have been suggested as being colour blind friendly. There are many sets of predefined colours which you can import from matplotlib but I would find a set that works for you and stick with that. "
   ]
  },
  {
   "cell_type": "markdown",
   "metadata": {},
   "source": [
    "The **ticks on the axes** are the lines on the axes used to indicate the different values. The ticks can be changed in many ways using the function `ax.tick_params` including:\n",
    "\n",
    "* Tick labelsize (as we have done before)\n",
    "* Direction of ticks\n",
    "* Ticks on top and right edges of the plot\n",
    "\n",
    "We can also separately adjust major and minor ticks, and ticks on each axis, through the `which` and `axis` arguments respectively.\n",
    "\n",
    "You can set ticks manually, using `ax.set_xticks` and `ax.set_yticks`. However, matplotlib also implements a number of objects in `matplotlib.ticker` for \"smart\" tick placement, such as:\n",
    "\n",
    "* `MultipleLocator`: places ticks at every multiple of a given number\n",
    "* `LogLocator`: places ticks at powers of a given base, e.g. base 10 produces ticks at each power of 10\n",
    "* `MaxNLocator`: place a maximum of N ticks at \"nice\" locations\n",
    "\n",
    "You can use these for either major or minor ticks through `ax.xaxis.set_major_locator` and `ax.xaxis.set_minor_locator` for the x-axis and `ax.yaxis.set_major_locator` and `ax.yaxis.set_minor_locator` for the y-axis."
   ]
  },
  {
   "cell_type": "markdown",
   "metadata": {},
   "source": [
    "Adding a **grid** is very useful for reading values off of the plot. It is important to plot the grid first so you don't draw over your plot. Similarly the `framealpha` argument for the legend allows you to remove the transparency of the legend so the grid does not show through the legend."
   ]
  },
  {
   "cell_type": "markdown",
   "metadata": {},
   "source": [
    "Changing the **shape** of symbols for data points (points, circles, squares etc) or the **type of line** (continuous, dashed etc.) can be an effective way to show multiple sets of data on the same plot independent of colour e.g. works in a black and white printout, helps if colours are washed out by a poor projector, helps people with different visual perception. We don't need this here as we only have one line and one set of data. \n",
    "\n",
    "Currently the `fmt = '.'` is setting the symbol used for the data points in the `errorbar` command but the default setting (a continuous line) is used in the `plot` command. "
   ]
  },
  {
   "cell_type": "markdown",
   "metadata": {},
   "source": [
    "### Image file issues"
   ]
  },
  {
   "cell_type": "markdown",
   "metadata": {},
   "source": [
    "The physical **size of the plot** is controlled the `figsize` parameter to `plt.figure` and by default it is in **inches** (other length units are also possible). So `fig = plt.figure(figsize = (6.4,4.8))` will give a figure that is 6.4 inches wide and 4.8 inches high which happens are the default values used if you do not specify a figure size. Sometimes you may want a square shape so this is where you can force that. "
   ]
  },
  {
   "cell_type": "markdown",
   "metadata": {},
   "source": [
    "There are two main **types of image file**: vector format files and raster format files. In matplotlib, the format of the file is set by the file extension of the filename you use when saving the file. For example `plt.savefig('myimage.png')` saves the image in `png` format' while `plt.savefig('myimage.pdf')` saves the file in `pdf` format."
   ]
  },
  {
   "cell_type": "markdown",
   "metadata": {},
   "source": [
    "In **vector image formats** the file stores commands and the image is drawn using these commands each time it is displayed.  \n",
    "* The main advantage is that images in vector format can be rescaled by arbitrary amounts without any loss in quality. These formats are the preferred option for many formal contexts such as academic journals and other professional printers.\n",
    "* More informal contexts, e.g. social media, are unlikely to accept vector formats. `Word` is also poor at handling these formats. \n",
    "* If you have very many items to draw, e.g.\\ you have a scatter plot of one million elements from an experiment, this format produces very large files that take far too long to display. \n",
    "* The most popular examples vector format files are `pdf` (proprietry but most widely accepted) and `svg` (widely used open source format and human readable).  "
   ]
  },
  {
   "cell_type": "markdown",
   "metadata": {},
   "source": [
    "In **raster image formats** the image is stored as a series of dots called \"pixels\" in a rectangular grid. \n",
    "* Raster format images often look terrible if you rescale by an arbitrary amount especially if enlarging them. This is why a screen shot of an image from a book that you use in a student report can look slightly blurred at edges. So try not to rescale these images if you can. \n",
    "* These files are widely accepted in informal contexts and so are the simplest to use.\n",
    "* These formats have a resolution parameter which we discuss below.  High resolution can produce extremely big files.\n",
    "* Common formats are `jpg` (proprietry) and `png`. These formats use compression to produce smaller files. \n",
    "\n",
    "For any raster format files you must specify the **resolution** in terms of `dpi` dots-per-inch.  This is controlled by the dots(pixels)-per-inch, the `dpi` parameter in a `plt.figure` command (see below).\n",
    "\n",
    "The actual size of the raster image in pixels, is then the product of the figure size in (the `figsize` parameter to `plt.figure`), and the dpi. \n",
    "\n",
    "One of the ways to improve the quality of raster file formats, to allow some rescaling, is to use is to use a much nigher resolution (and hence a much larger files sizes). Academic journals might ask for 1200dpi, a typical home printer might print at 300dpi or 600dpi. The default in matplotlib is 100dpi which is fine for most electronic presentations e.g. powerpoint, web pages. \n",
    "\n",
    "As almost any output device is also using a raster format, printing or displaying individual pixels. So the precise relationship of the number of pixels from the image displayed in one pixel in the output device is not trivial to work out.\n"
   ]
  },
  {
   "cell_type": "markdown",
   "metadata": {},
   "source": [
    "#### Demonstration of image file issues \n",
    "\n",
    "We can demonstrate this by making the same plot twice, saving it, and displaying them at the same height using a Markdown cell. Run the following two code cells, then the Markdown cell after that."
   ]
  },
  {
   "cell_type": "code",
   "execution_count": null,
   "metadata": {},
   "outputs": [],
   "source": [
    "fig = plt.figure(figsize = (3,2)) # 3 inches wide, 2 inches high with default 100 pixels per inch,\n",
    "ax = fig.add_subplot(111)\n",
    "ax.grid() \n",
    "\n",
    "ax.errorbar(X, y, xerr = xerr, yerr = yerr, fmt = '.',label='Data',color='#D55E00',capsize = 1.5,ms = 1.5, elinewidth = 1,capthick = 1)\n",
    "ax.set_xlabel('Length [cm]',fontsize = 8)\n",
    "ax.set_ylabel('Period [s]',fontsize= 8)\n",
    "ax.set_title('Simple pendulum',fontsize= 10)\n",
    "ax.plot(X, 2*np.pi*np.sqrt(X/100/g),label = 'Fit g = {:.2f} $\\pm$ {:.2f} ms$^{{-2}}$'.format(g, sig_g),color='black')\n",
    "\n",
    "handles, labels = ax.get_legend_handles_labels()\n",
    "\n",
    "ax.legend(handles[::-1],labels[::-1],loc='upper left',fontsize = 6, framealpha = 1) \n",
    "\n",
    "ax.tick_params(axis='both',labelsize = 6, direction='in',top = True, right = True, which='both')\n",
    "\n",
    "ax.xaxis.set_minor_locator(MultipleLocator(0.5))\n",
    "ax.yaxis.set_minor_locator(MultipleLocator(0.02))\n",
    "\n",
    "fig.tight_layout()\n",
    "plt.savefig('pendulum_dpi_100_small.png') # 100 pixels per inch, so should be 1800 pixels by 1200 pixels \n",
    "plt.close()"
   ]
  },
  {
   "cell_type": "code",
   "execution_count": null,
   "metadata": {},
   "outputs": [],
   "source": [
    "fig = plt.figure(figsize = (3,2), dpi = 300) # 300 pixels per inch, so should be 1800 pixels by 1200 pixels \n",
    "ax = fig.add_subplot(111)\n",
    "ax.grid() \n",
    "\n",
    "ax.errorbar(X, y, xerr = xerr, yerr = yerr, fmt = '.',label='Data',color='#D55E00',capsize = 1.5,ms = 1.5, elinewidth = 1,capthick = 1)\n",
    "ax.set_xlabel('Length [cm]',fontsize = 8)\n",
    "ax.set_ylabel('Period [s]',fontsize= 8)\n",
    "ax.set_title('Simple pendulum',fontsize= 10)\n",
    "ax.plot(X, 2*np.pi*np.sqrt(X/100/g),label = 'Fit g = {:.2f} $\\pm$ {:.2f} ms$^{{-2}}$'.format(g, sig_g),color='black')\n",
    "\n",
    "handles, labels = ax.get_legend_handles_labels()\n",
    "\n",
    "ax.legend(handles[::-1],labels[::-1],loc='upper left',fontsize = 6, framealpha = 1) \n",
    "\n",
    "ax.tick_params(axis='both',labelsize = 6, direction='in',top = True, right = True, which='both')\n",
    "\n",
    "ax.xaxis.set_minor_locator(MultipleLocator(0.5))\n",
    "ax.yaxis.set_minor_locator(MultipleLocator(0.02))\n",
    "\n",
    "fig.tight_layout()\n",
    "plt.savefig('pendulum_dpi_300_small.png')\n",
    "plt.close()"
   ]
  },
  {
   "cell_type": "markdown",
   "metadata": {},
   "source": [
    "<table><tr>\n",
    "<td><img src=pendulum_dpi_100_small.png align='center' width=600/></td>\n",
    "<td><img src=pendulum_dpi_300_small.png align='center' width=600/></td>\n",
    "</tr></table>\n"
   ]
  },
  {
   "cell_type": "markdown",
   "metadata": {},
   "source": [
    "The plot on the left is the default resolution, while the plot on the right is with `dpi = 300`. Depending on how much you are scaling your plot for e.g. a report or a poster, the resolution will have a greater or lesser effect. With `figsize = (3,2)`, the left plot has a resolution of 300 pixels by 200 pixels while the right plot has a resolution of 900 pixels by 600 pixels. In this markdown cell, both images have been scaled to a width of 600 pixels."
   ]
  },
  {
   "cell_type": "markdown",
   "metadata": {},
   "source": [
    "<div style=\"background-color: #FFF8C6\">\n",
    "\n",
    "We have formatted each plot manually but `matplotlib` has the ability for you to define a **style file** that redefines the default formatting. See the appendix at the end for more information."
   ]
  },
  {
   "cell_type": "markdown",
   "metadata": {},
   "source": [
    "<div style=\"background-color:#C2F5DD\">\n",
    "\n",
    "### Exercise 6\n",
    "\n",
    "Using what you have now seen about plot formatting, re-do your 6 plots of polynomials from Exercise Four but with better formatting. Remember the following points:\n",
    "\n",
    "* Good spacing between subplots\n",
    "* Clear and appropriately sized axis labels, tick labels, and titles\n",
    "* Grids on each plot"
   ]
  },
  {
   "cell_type": "code",
   "execution_count": null,
   "metadata": {},
   "outputs": [],
   "source": [
    "# Your code here\n"
   ]
  },
  {
   "cell_type": "markdown",
   "metadata": {},
   "source": [
    "<div style=\"background-color:#C2F5DD\">\n",
    "\n",
    "### Exercise 7\n",
    "\n",
    "Using what you have now seen about plot formatting, reproduce the two histograms you plotted in Exercise 5 but with better formatting. Remember to consider:\n",
    "\n",
    "* Clear plot colours\n",
    "* Well-formatted legend\n",
    "* Appropriately sized axis labels, tick labels, and title\n",
    "* A grid"
   ]
  },
  {
   "cell_type": "code",
   "execution_count": null,
   "metadata": {},
   "outputs": [],
   "source": [
    "# Your code here\n",
    "\n"
   ]
  },
  {
   "cell_type": "markdown",
   "metadata": {},
   "source": [
    "## Summary\n",
    "\n",
    "In this section, we have reviewed visualisation of data using matplotlib. \n",
    "\n",
    "* Basics of matplotlib, including the `Figure` and `Axes` classes\n",
    "* How to improve plot aesthetics\n",
    "\n",
    "The next section will include a set of exercises for you to work through this week, to practise using pandas and producing professional-looking plots."
   ]
  },
  {
   "cell_type": "markdown",
   "metadata": {},
   "source": [
    "<hr style=\"border:2px solid gray\"> \n",
    "<a name=\"exercises\"></a>"
   ]
  },
  {
   "cell_type": "markdown",
   "metadata": {},
   "source": [
    "# Further Exercises [^](#outline)\n",
    "\n",
    "These exercises are here for you to get more experience using Jupyter notebooks, `pandas` and `matplotlib`. In each section, code cells have been given to help prompt you on each step to work through, but feel free to make your own steps if you want - just make sure you work through each of the tasks."
   ]
  },
  {
   "cell_type": "markdown",
   "metadata": {},
   "source": [
    "<div style=\"background-color:#C2F5DD\">\n",
    "\n",
    "### Exercise 8\n",
    "\n",
    "Using the concrete dataset, pick two of the quantities in the DataFrame and make a scatter plot. Remember the following plotting points:\n",
    "\n",
    "* Appropriate axis labels and title\n",
    "* Title, axis label and tick label fontsizes\n",
    "* Figure size & resolution\n",
    "* Tick formatting\n",
    "\n",
    "Save your figure using `plt.savefig` with an appropriate file name."
   ]
  },
  {
   "cell_type": "code",
   "execution_count": null,
   "metadata": {},
   "outputs": [],
   "source": [
    "# Load concrete data\n",
    " "
   ]
  },
  {
   "cell_type": "code",
   "execution_count": null,
   "metadata": {},
   "outputs": [],
   "source": [
    "# Make and save your plot\n",
    "\n"
   ]
  },
  {
   "cell_type": "markdown",
   "metadata": {},
   "source": [
    "<div style=\"background-color:#C2F5DD\">\n",
    "\n",
    "### Exercise 9\n",
    "\n",
    "Using the plot you have just saved, display your plot in the Markdown cell below."
   ]
  },
  {
   "cell_type": "markdown",
   "metadata": {},
   "source": [
    "Your plot here"
   ]
  },
  {
   "cell_type": "markdown",
   "metadata": {},
   "source": [
    "<div style=\"background-color:#C2F5DD\">\n",
    "\n",
    "### Exercise 10\n",
    "\n",
    "Using the concrete data, make an array of histograms of the concrete descriptive features, using `plt.subplots`. The descriptive features are the following DataFrame columns:\n",
    "\n",
    "* Cement\n",
    "* Blast Furnace Slag\n",
    "* Fly Ash\n",
    "* Water\n",
    "* Superplasticizer\n",
    "* Coarse Aggregate\n",
    "* Fine Aggregate\n",
    "* Age\n",
    "\n",
    "Remember to format your plots carefully. `plt.subplots` returns a `Figure` object and an array of `Axes`, which you can index to plot on/format individually. Make sure to consider the following formatting points:\n",
    "\n",
    "* Size of axis and tick labels\n",
    "* Colours\n",
    "* Grids"
   ]
  },
  {
   "cell_type": "code",
   "execution_count": null,
   "metadata": {},
   "outputs": [],
   "source": [
    "# Load the data\n"
   ]
  },
  {
   "cell_type": "code",
   "execution_count": null,
   "metadata": {},
   "outputs": [],
   "source": [
    "# Define figure and subplots\n",
    "\n",
    "\n",
    "\n",
    "# Plot each histogram\n",
    "\n",
    "\n",
    "\n",
    "# Add labels to each axis\n",
    "\n",
    "\n",
    "\n",
    "# Edit tick parameters on each axis\n",
    "\n",
    "\n",
    "\n",
    "# Add a title\n",
    "\n",
    "\n",
    "\n",
    "# Save your plot\n",
    "\n",
    "\n"
   ]
  },
  {
   "cell_type": "markdown",
   "metadata": {},
   "source": [
    "<div style=\"background-color:#C2F5DD\">\n",
    "\n",
    "End of exercise 10."
   ]
  },
  {
   "cell_type": "markdown",
   "metadata": {},
   "source": [
    "<hr style=\"border:2px solid gray\"> \n",
    "<a name=\"appendices\"></a>"
   ]
  },
  {
   "cell_type": "markdown",
   "metadata": {},
   "source": [
    "<div style=\"background-color:#efdff2\">\n",
    "\n",
    "#### Appendix: Colour-Blind Friendly Colours [^](#outline)\n",
    "    \n",
    "Here are some ideas for colour schemes that are colour-blind friendly. I found these on\n",
    "on \"[Material related to the blog \"Dataviz with Flying Colors\"](https://zenodo.org/records/3381072)\" by Joachim Goedhart which shows these colours for you. These are extracted from the file [`Display_color_scales.R`](https://zenodo.org/records/3381072/files/Display_color_scales.R?download=1\n",
    ") and you will see that in some of the plots use colours from one of the sets listed here.\n",
    "```\n",
    "Tol_bright = ['#EE6677', '#228833', '#4477AA', '#CCBB44', '#66CCEE', '#AA3377', '#BBBBBB']\n",
    "\n",
    "Tol_muted = ['#88CCEE', '#44AA99', '#117733', '#332288', '#DDCC77', '#999933','#CC6677', '#882255', '#AA4499', '#DDDDDD']\n",
    "\n",
    "Tol_light = ['#BBCC33', '#AAAA00', '#77AADD', '#EE8866', '#EEDD88', '#FFAABB', '#99DDFF', '#44BB99', '#DDDDDD']\n",
    "\n",
    "#From Color Universal Design (CUD): https://jfly.uni-koeln.de/color/\n",
    "Okabe_Ito = [\"#E69F00\", \"#56B4E9\", \"#009E73\", \"#F0E442\", \"#0072B2\", \"#D55E00\", \"#CC79A7\", \"#000000\"]\n",
    "```\n",
    "    \n",
    "<div> <img src='Week1_plots/colourblindschemes.png' align='center' width=\"200\"/> </div>"
   ]
  },
  {
   "cell_type": "markdown",
   "metadata": {},
   "source": [
    "<div style=\"background-color:#efdff2\">\n",
    "\n",
    "#### Appendix: Marker Choice for Points  [^](#outline)\n",
    "\n",
    "When marking points we can use different symbols, called markers in matplotlib. If the symbol is too large and points in different data sets are too close, you can obscure the scientific information. Two tricks are useful here:- using unfilled markers or using filled markers with transparency (alpha).\n",
    "\n",
    "Unfilled markers/symbols are basically made out of lines so there is no area to fill and obscure other points. The ones I find most useful are\n",
    "\n",
    "unfilled_markers_tse = [\"+\", \"x\", \"1\", \"2\", \"3\", \"4\", \"|\", \"_\", \",\"]\n",
    "\n",
    "Filled markers are mostly polygons\n"
   ]
  },
  {
   "cell_type": "markdown",
   "metadata": {},
   "source": [
    "<div style=\"background-color:#efdff2\">\n",
    "\n",
    "#### Appendix: Style Files  [^](#outline)\n",
    "    \n",
    "We have done all of this plot formatting manually each time we make a plot. I would suggest you stick with that method, copying code from previous examples as needed. It will help you focus on the basic skills first. \n",
    "    \n",
    "However, matplotlib has the ability for you to define a **style file** that redefines the default formatting. These are generally contained in in .mpl files. There are a number of pre-defined styles in matplotlib, but it is straightforward enough to prepare your own style file. \n",
    "\n",
    "You can use a `.mpl` style file using `plt.style.use`. You can see the list of available defaults using `plt.style.available`.\n",
    "\n",
    "It is common for big experiments to have a style file to ensure consistency in plot style between different members of the experiment. You could also have different style files for different applications of your plots, e.g. you want larger fonts for labels etc for posters than you do for reports.\n",
    "\n",
    "You can find more information about matplotlib style files in the [User Guide](https://matplotlib.org/stable/tutorials/introductory/customizing.html#customizing-with-style-sheets)."
   ]
  },
  {
   "cell_type": "code",
   "execution_count": null,
   "metadata": {},
   "outputs": [],
   "source": []
  }
 ],
 "metadata": {
  "kernelspec": {
   "display_name": "Python 3 (ipykernel)",
   "language": "python",
   "name": "python3"
  },
  "language_info": {
   "codemirror_mode": {
    "name": "ipython",
    "version": 3
   },
   "file_extension": ".py",
   "mimetype": "text/x-python",
   "name": "python",
   "nbconvert_exporter": "python",
   "pygments_lexer": "ipython3",
   "version": "3.8.18"
  }
 },
 "nbformat": 4,
 "nbformat_minor": 2
}
