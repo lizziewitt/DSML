{
 "cells": [
  {
   "cell_type": "markdown",
   "metadata": {},
   "source": [
    "# Week 5 - Your 1st ML Model: k-Nearest Neighbours Classification"
   ]
  },
  {
   "cell_type": "markdown",
   "metadata": {},
   "source": [
    "<hr style=\"border:2px solid gray\">\n",
    "<a name=\"preliminaries\"></a>\n",
    "\n",
    "# Preliminaries: Recommended Books\n",
    "\n",
    "There are three books recommended books:\n",
    "\n",
    "1) [The One Hundred-Page Machine Learning Book](http://themlbook.com/) by \n",
    "Andriy Burkov. \n",
    "- This is a great conceptual book on ML, with a reasonable summary of the mathematics. A free sample of the book is available (up to about page 34). Copies are available in the college library.\n",
    "\n",
    "2) [Hands on Machine Learning with Scikit-Learn, Keras and TensorFlow](https://www.oreilly.com/library/view/hands-on-machine-learning/9781492032632/) by Aurélien Géron. \n",
    "- A great hands-on book for ML to take you from no knowledge to implementing models, and has sufficient detail to take you into the understanding of the algorithms. This book also has a good collection of the original papers cited and links to them on their website. There is also much information on the [github](https://homl.info). An online version can be accessed through the college library, if you search it by name through the library website. \n",
    "\n",
    "3) [Introduction to Machine Learning with Python](https://www.oreilly.com/library/view/introduction-to-machine/9781449369880/). This is a more introductory level than one above, however it is really well written and takes you through things more carefully.\n",
    "\n",
    "There are plenty of other good and more theoretical ML books but the above are practical while having enough theory for you to understand them. In this course we only have time to teach you the basics and to touch on a few techniques. These books will take you further.\n",
    "\n",
    "**Note:** Examples from the last two of these books will be used throughout these workbooks (on publically available data) and will be referenced appropriately. **2.** will be denoted as **{homl}** and **3.** as **{imlp}**. "
   ]
  },
  {
   "cell_type": "markdown",
   "metadata": {},
   "source": [
    "<hr style=\"border:2px solid gray\">\n",
    "\n",
    "# Outline <a id='outline'></a>\n",
    "1. [Section One: Introduction to Machine Learning](#section-1)\n",
    "1. [Section Two: k-Nearest Neighbours](#section-2)\n",
    "1. [Section Three: Challenges in ML](#section-3)\n",
    "1. [Section Four: The IRIS dataset](#section-4)\n",
    "1. [Section Five: Exercises](#section-5)"
   ]
  },
  {
   "cell_type": "markdown",
   "metadata": {},
   "source": [
    "<hr style=\"border:2px solid gray\">\n",
    "<a name=\"section-1\"></a>\n",
    "\n",
    "# Section One: Introduction to Machine Learning [^](#outline)\n",
    "\n",
    "In machine learning you build a model from the data that you have. There are many different types of machine learning and there are many different ways of categorising them. We want our model to learn about the data we show it, and then make some kind of prediction on unseen data. The specifics of the training data and the predictions depend on the type of learning we are considering.\n",
    "\n",
    "<!-- Need some general comments on terminology, train/test sets, etc -->\n",
    "\n",
    "## Supervised, Unsupervised, Semisupervised, and Reinforcement Learning\n",
    "\n",
    "**Supervised learning** builds a model using existing data with a **known desired output** (called labels) where we want to predict the outcome for new observations of the input. We say that this training data is **labelled**. Most of the machine learning that we carry out in the physical sciences (and the world at large) is supervised. The existing data is called **training data** and is used to train the model. Some examples of supervised learning include:\n",
    "* **Regression**: predicting a continuous output value. \n",
    "    * Example: predicting the price of a car based on characteristics of the car\n",
    "<br>\n",
    "<br/>\n",
    "\n",
    "\n",
    "* **Binary classification**: classifying data into one of two classes. \n",
    "    * Example: classifying emails as spam or not\n",
    "<br>\n",
    "<br/>\n",
    "\n",
    "* **Multiclass classification**: classifying data into one of multiple classes. \n",
    "    * Example: facial recognition against a database of faces\n",
    "    \n",
    "We will talk more about classification and regression later in this notebook.\n",
    "\n",
    "\n",
    "**Unsupervised learning** is where you don't have a known desired output, aka where the training data is **unlabelled**, so you are trying to build a model based on other properties. We find patterns based on similarities or differences of data points. Common examples include:\n",
    "* **Clustering**: grouping data into categories without any prior information \n",
    "    * Example: social network friend suggestions\n",
    "\n",
    "    \n",
    "\n",
    "\n",
    "An example of a training dataset for supervised vs unsupervised learning can be seen in the figure below.\n",
    "\n",
    "<img src=ML_Week5_Photos/Labelled_vs_unlabelled.png height=400 align=\"center\"/>\n",
    "\n",
    "*Example of labelled and unlabelled data for supervised and unsupervised learning respectively. In the supervised case, each class is already labelled. In the unsupervised case, the algorithm must learn the clusters from the unlabelled data.*\n",
    "\n"
   ]
  },
  {
   "cell_type": "markdown",
   "metadata": {},
   "source": [
    "<div style=\"background-color: #FFF8C6\">\n",
    "\n",
    "**Semisupervised learning** sits somewhere between supervised and unsupervised learning, where you have algorithms that cope with partially labelled data. Often the labelled data points are used to infer labels for the unlabelled data points, and the combined labelled dataset is used to train a complete model for making predictions on new data.\n",
    "* Examples include: face identification in a series of photos. A semi-supervised algorithm identifies the same person in multiple photos and can then label that person in every photo once a label is provided for one photo.\n",
    "\n",
    "<img src=ML_Week5_Photos/semi_supervised_example.png align=\"center\"/>\n",
    "\n",
    "*Example of semi-supervised learning. The unlabelled grey points help classify a new point (the cross) into the triangle class, despite the proximity of the labeled squares. The labels for the unlabelled points are inferred first and used to help prediction on unseen data. (Source: ***{homl}***, Figure 1-11).*\n",
    "\n",
    "**Reinforcement learning** has **agents** that can take different actions according to a policy. Actions are rewarded or penalised depending on the application, so the agent must learn the best policy of actions to take in a given situation, to maximise the reward and minimise the penalty. Inputs to the model are parameters of the situation, and the output is the choice of action by the agent.\n",
    "    \n",
    "* Examples include: teaching robots to walk, AI for chess \n",
    "\n",
    "<div>\n",
    "<img src=ML_Week5_Photos/reinforcement_example.png align=\"center\" width=600/>\n",
    "</div>\n",
    "*Example of reinforcement learning. Rewards and penalties are associated with each action the agent can take, and the policy is updated depending on the specific reward or penalty received after action. (Source: ***{homl}***, Figure 1-12).*\n"
   ]
  },
  {
   "cell_type": "markdown",
   "metadata": {},
   "source": [
    "\n",
    "For the rest of this course, we will restrict ourselves to just discussing supervised and unsupervised learning, with the main emphasis on supervised methods. However, an awareness of of semi-supervised and reinforcement techniques is useful for general understanding."
   ]
  },
  {
   "cell_type": "markdown",
   "metadata": {},
   "source": [
    "<div style=\"background-color:#FFCCCB\">\n",
    "\n",
    "## Mathematical formulation of supervised and unsupervised learning\n",
    "\n",
    "## Supervised learning\n",
    "\n",
    "For supervised learning, training data comes in pairs ($\\mathbf{X}$, $y$), where $\\mathbf{X} \\in \\mathbb{R}^d$ is the input vector and $y$ is the corresonding label. The total training dataset can therefore be denoted as \n",
    "\n",
    "D = {($\\mathbf{X}_1$, $y_1$),$\\dots$,($\\mathbf{X}_n$, $y_n$)} $\\subseteq \\mathbb{R}^d \\times \\mathcal{C}$,\n",
    "where:\n",
    "\n",
    "* $\\mathbb{R}^d$ is the $d$-dimensional feature space\n",
    "* $\\mathbf{X}_i$ is the input vector of the $i$-th sample\n",
    "* $y_i$ is the label of the $i$-th sample\n",
    "* $\\mathcal{C}$ is the space of possible labels, referred to as the **label space**\n",
    "\n",
    "$\\mathbf{X}_i$ is referred to as a **feature vector** and denotes a single data point. Each of the $d$ dimensions of these vectors is a **feature** of that single data point. Features can include continuous numerical values, e.g. for a model to predict house prices this could include the floor area of the house, the last sale price, etc. Features can also be categorical, e.g. if it has a garden or not. In general features consist of all things that describe your data.\n",
    "\n",
    "The label space $\\mathcal{C}$ contains all possible labels. Some possible label spaces could include:\n",
    "* Binary classification: $\\mathcal{C}$ = {0, 1} or $\\mathcal{C}$ = {-1, +1}. Two individual classes, that are represented numerically with two different values, e.g. classifying email as spam or not.\n",
    "    <br>\n",
    "    \n",
    "* Multiclass classification: $\\mathcal{C}$ = {1, 2, $\\dots$, K}. K individual classes, which are each represented with an index, e.g. facial recognition against a database of faces\n",
    "    <br>\n",
    "    \n",
    "* Regression: $\\mathcal{C} = \\mathbb{R}$. Label space is any real number, e.g. predicting house price.\n",
    "\n",
    "\n",
    "The aim of the machine learning algorithm is to determine some function $f$ that can map $\\mathbf{X}_i$ to $y_i$ for the training data, and make predictions on new unseen data. $f$ belongs to a space of possible functions $F$, referred to as the **hypothesis class**, which are determined by the specific algorithm you are using. Learning the specific function $f$ is the actual learning process of a machine learning algorithm. The perfomance of the choice of function is quantified by a **loss function** $L(\\hat{y}_i ,y_i)$, where $\\hat{y}_i = f(\\mathbf{X}_i)$ is the **prediction** of the algorithm for the input $\\mathbf{X}_i$. The function $f$ is optimised in order to minimise or maximise the loss function, depending on the specific algorithm and choice of loss function. The specific algorithm for optimisation depends on the specific application\n",
    "\n",
    "## Unsupervised learning\n",
    "\n",
    "In unsupervised learning, rather than learning a relationship between an input $\\mathbf{X}_i$ and a target $y_i$, we attempt to learn patterns in the input data. This can be interpreted as attempting to observe a set of inputs {$\\mathbf{X}_1, \\dots, \\mathbf{X}_N$} and inferring the probability distribution $p(\\mathbf{X})$ of the input space $X$, or interesting properties of said distribution. Common applications include clustering for data exploration, and detection of anomalies that differ significantly from a dataset.\n",
    "\n",
    "Many of the algorithms we will see can be extended to unsupervised learning by changing the loss function. "
   ]
  },
  {
   "cell_type": "markdown",
   "metadata": {},
   "source": [
    "## Classification and Regression\n",
    "\n",
    "The two main uses of ML in Physics are classification and regression in supervised ML. \n",
    "\n",
    "In **classification** you are trying to **distinguish between discrete types of entities**. For example pictures of cats from dogs, spam emails,  clothes types, whether energy deposition in a detector is from an electron or a muon, etc. Classification problems are often binary $y\\in \\{0,1\\}$, however there are generalisations to multiple-class cases. \n",
    "\n",
    "<img src=ML_Week5_Photos/homl_classification2.png/>\n",
    "\n",
    "*A classification problem: separating spam emails from non-spam emails. Examples of spam and non-spam emails are shown to the algorithm, which then classifies unseen examples  (Source: ***{homl}***, Figure 1-5).*\n",
    "\n",
    "In **regression** you are trying to **predict a value from a continuous space**. For example the return on an investment, energy of a cosmic ray based on the observation of scintillation light and the muons that it produced etc. Simply, classification tells you what it is whereas regression tells you what value it has.\n",
    "\n",
    "<img src=ML_Week5_Photos/homl_regression2.png/>\n",
    "\n",
    "*Regression example, with a single input feature. Predictions of values for unseen inputs are made based on the previously seen training data (Source: ***{homl}***, Figure 1-6)*.\n",
    "\n",
    "**Note:** While these sound conceptually quite different the same approaches can often be used for both as you will see throughout this course."
   ]
  },
  {
   "cell_type": "markdown",
   "metadata": {},
   "source": [
    "## Instance-based and Model-based Learning\n",
    "\n",
    "The purpose of ML is to be able to take the data that you have and generalise it to new data. \n",
    "\n",
    "For **instance-based learning**, predictions for test data are calculated by comparing your test data with your training data and saying your test data targets should be the \"same\" as the \"nearest\" training data points. How we define both \"same\" and \"nearest\" depends on the specifics of the algorithm in question.\n",
    " * We assess how \"close\" a test point is to training data through some function of the data points, e.g. Euclidean distance between the test point inputs and the training point inputs.\n",
    " * What the \"same\" prediction means depends on our algorithm, e.g. for classification we could predict the same class, or for regression we could predict the mean of the closest points, but there are many different definitions.\n",
    " \n",
    "Common examples of these algorithms are k-Nearest Neighbours (discussed below), kernel machines, and more.\n",
    "\n",
    "<div>\n",
    "<img src=ML_Week5_Photos/instance-based-example.png align=\"center\" width=700/>\n",
    "</div>\n",
    "\n",
    "*Example of instance based learning: the value at a new data point is determined by the existing instances only. (Source: ***{homl}***, Figure 1-15).*\n",
    "\n",
    "\n",
    "In **model-based learning** you take a few instances and build a more general **model**. This model is refined through training and validation. Model-based ML models often have internal **parameters** that are not seen in the outside world, which are optimised to solve the problem in question.\n",
    "\n",
    "Examples of such an approach include decision trees and neural networks, both of which are covered later in this course.\n",
    "\n",
    "<div>\n",
    "<img src=ML_Week5_Photos/model-based-example.png align='center' width=500/>\n",
    "</div>\n",
    "\n",
    "*Example of model based learning: the value at a new data point is determined by a model, which has learned its parameters from existing instances.*\n",
    "\n",
    "In model-based learning, the model we train has internal **parameters**, which are learned and determined during the training procedure; for example, the support vectors in a Support Vector Machine or the weights of a neural network (both of which you will see later in this course). In contrast, all algorithms have **hyperparameters**, which are parameters of the algorithm itself that determine the training. Examples include $k$ in k-Nearest Neighbours (shown below), the depth of trees in a decision tree, or the number of hidden layers in a neural network (both of which are seen later in this course). It is important to understand the difference between these two concepts:\n",
    "\n",
    "* **Parameters**: internal values of a model that are learned from training data. These are optimised during training to learn how to predict the training data.\n",
    "* **Hyperparameters**: values that are passed to an algorithm and determine how the training is done. These are set by the user at the start of training, and may be optimised for subsequent models to find the best performing model.\n",
    "\n"
   ]
  },
  {
   "cell_type": "markdown",
   "metadata": {},
   "source": [
    "## Summary\n",
    "\n",
    "This section has introduced some of the key fundamentals of machine learning, including:\n",
    " * Supervised vs unsupervised learning\n",
    " * Classification and regression\n",
    " * Instance-based and model-based learning\n",
    "\n",
    "The remainder of this workbook is concerned with classification. The next section will describe one of the algorithms we are going to use."
   ]
  },
  {
   "cell_type": "markdown",
   "metadata": {},
   "source": [
    "<hr style=\"border:2px solid gray\">\n",
    "<a id='section-2'></a>\n",
    "\n",
    "# Section Two: k-Nearest Neighbours [^](#outline)"
   ]
  },
  {
   "cell_type": "markdown",
   "metadata": {},
   "source": [
    "k-Nearest Neighbours (k-NN) is one of the most commonly used ML algorithms, and is an example of an instance-based algorithm. \n",
    "The k-NN algorithm can be used for both classification and regression. It starts with calculating a so-called **distance metric** of a new point $\\mathbf{X}$ to all other points in the dataset. It then finds the $k$ points nearest to $\\mathbf{X}$. How we make a prediction depends on the problem we are tackling i.e. whether we are doing classification or regression.\n",
    "\n",
    "* **Classification**: labels refer to categories. The new data point $x$ is assigned to the most frequent class of its $k$-nearest neighbours. For example, if our goal is to classify cats or dogs and the three nearest data-points ($k=3$) to $\\mathbf{X}$ are classified as cat, cat, dog, then our new point $\\mathbf{X}$ would be classified as cat. However, if look at the 10 nearest data points ($k=10$) to $\\mathbf{X}$ and we find now that 4 are cat and 6 are dog, $\\mathbf{X}$ would be classified as dog.\n",
    "\n",
    "<div>\n",
    "<img src=ML_Week5_Photos/k-nn_classification_example-final.png width=450 align=\"center\"/>\n",
    "</div>\n",
    "\n",
    "*Example of classification using k-NN: in the first circle $k=3$, the most common class in the nearest neighbours to the black object is the square class, so the black object is classified as a square. In the second circle $k=7$, the most common class is the triangle and so the black object is is classified as a triangle.*\n",
    "\n",
    "\n",
    "* **Regression**: labels are continuous variables. The label of the new data point $\\mathbf{X}$ is chosen to be the average of the labels of its $k$-nearest neighbours. An example can be seen in the figure below.\n",
    "\n",
    "\n",
    "<img src=ML_Week5_Photos/k-nn_regression_example.png height=400 align=\"center\">\n",
    "\n",
    "*Example of regression using k-NN: the data are generated according to $y = \\mathbf{X}^2$ plus Gaussian noise. For $k$ = 5, the prediction is close to the trend we would expect. However, for $k$ = 12, the prediction point is overestimated compared to $k$ = 5, as higher values are captured in the $k$-nearest neighbours.*\n",
    "\n",
    "The choice of **distance metric** is one of the most important hyperparameter choices for k-NN, as it defines what which points are the nearest neighbours of a prediction point.\n",
    "\n",
    "A commonly used distance metric is the (classic) Euclidean distance\n",
    "\\begin{equation*}\n",
    "d(\\mathbf{p},\\mathbf{q})=\\sqrt{\\sum_{i=1}^{D}\\left(q_{i}-p_{i}\\right)^{2}},\n",
    "\\end{equation*}\n",
    "where $\\mathbf{p}$ and $\\mathbf{q}$ are two points in our $D$-dimensional Euclidean space. Other distances can be chosen depending on the problem at hand. \n",
    "\n",
    "A helpful resource for the different types of distances and situations where they are used can be found [here](https://www.ibm.com/topics/knn#:~:text=The%20k%2Dnearest%20neighbors%20algorithm%2C%20also%20known%20as%20KNN%20or,of%20an%20individual%20data%20point.).\n",
    "\n",
    "You can also choose how points are weighted; common choices are either uniform, so every point is considered equal, or distance, which weights the contribution of a given training point inversely to the distance from the prediction point i.e. closer training points contribute more. It is also possible to define your own weighting scheme, see the [scikit-learn documentation](https://scikit-learn.org/stable/modules/generated/sklearn.neighbors.KNeighborsClassifier.html)."
   ]
  },
  {
   "cell_type": "markdown",
   "metadata": {},
   "source": [
    "## Toy example\n",
    "\n",
    "Now that we have established the mathematics of k-Nearest Neighbours, you will have an opportunity to try it for classification. For k-NN, we will use the scikit-learn package, which is imported in Python as `sklearn`. Scikit-learn has a nice function to generate toy data for testing classification algorithms, called ```make_blobs```:"
   ]
  },
  {
   "cell_type": "code",
   "execution_count": 1,
   "metadata": {},
   "outputs": [],
   "source": [
    "from sklearn.datasets import make_blobs\n",
    "import pandas as pd\n",
    "import numpy as np\n",
    "\n",
    "# Note: it is convention to label X as capital and y as lowercase\n",
    "X, y = make_blobs(300,2, center_box=(-5,5), centers = 2, random_state = 2) "
   ]
  },
  {
   "cell_type": "markdown",
   "metadata": {},
   "source": [
    "X and y contain the samples and the corresponding class labels respectively. \n"
   ]
  },
  {
   "cell_type": "markdown",
   "metadata": {},
   "source": [
    "<!-- <div style=\"background-color:#C2F5DD\"> -->\n",
    " \n",
    "* How many features does this dataset have? \n",
    "* How many classes? \n",
    "\n",
    "(Hint: check the [documentation](https://scikit-learn.org/stable/modules/generated/sklearn.datasets.make_blobs.html))"
   ]
  },
  {
   "cell_type": "markdown",
   "metadata": {},
   "source": [
    "Now that we have a dataset, the first thing to do is visualise it. This can be done in a number of ways, but an easy way to do it is to put your data into a Pandas dataframe and plot the **scatter matrix**."
   ]
  },
  {
   "cell_type": "code",
   "execution_count": 2,
   "metadata": {},
   "outputs": [
    {
     "data": {
      "text/plain": [
       "array([[<Axes: xlabel='Feature 1', ylabel='Feature 1'>,\n",
       "        <Axes: xlabel='Feature 2', ylabel='Feature 1'>],\n",
       "       [<Axes: xlabel='Feature 1', ylabel='Feature 2'>,\n",
       "        <Axes: xlabel='Feature 2', ylabel='Feature 2'>]], dtype=object)"
      ]
     },
     "execution_count": 2,
     "metadata": {},
     "output_type": "execute_result"
    },
    {
     "data": {
      "image/png": "[encoded data removed]",
      "text/plain": [
       "<Figure size 600x600 with 4 Axes>"
      ]
     },
     "metadata": {},
     "output_type": "display_data"
    }
   ],
   "source": [
    "import matplotlib.cm as cm\n",
    "\n",
    "df_toy = pd.DataFrame(X,columns=['Feature 1','Feature 2'])\n",
    "pd.plotting.scatter_matrix(df_toy, figsize = (6,6), c = y, hist_kwds={'edgecolor':'black','alpha':0.5}, cmap = cm.cividis)"
   ]
  },
  {
   "cell_type": "markdown",
   "metadata": {},
   "source": [
    "This plot can look a little confusing at first, but it is actually quite simple. The top-right and bottom-left plots show scatter plots of one feature vs another, while the top-left and bottom-right plots are histograms of each feature in turn. For a simple dataset like we have here there is only 1 unique scatter plot, but in general we will work with multi-dimensional datasets that have more complex relationships (as you will see later in this workbook)."
   ]
  },
  {
   "cell_type": "markdown",
   "metadata": {},
   "source": [
    "You might be able to see by eye how you could separate different classes in your data from these plots. In order to do this, we are going to use a k-NN classifier. \n",
    "\n",
    "When we train a model, we need to separate our data into a training set and a testing set. This is to make sure we have an independent metric for our model performance; while performance on training data is important (we make sure the model has learned the training data), we also need to make sure our model performs well on unseen data.\n",
    "\n",
    "* **Training data**: data the algorithm sees during training\n",
    "\n",
    "* **Testing data**: data the algorithm does not see during training\n",
    "\n",
    "Splitting our data into training and test sets can be done easily using an `sklearn` function, ```train_test_split```:"
   ]
  },
  {
   "cell_type": "code",
   "execution_count": 6,
   "metadata": {},
   "outputs": [
    {
     "name": "stdout",
     "output_type": "stream",
     "text": [
      "240\n"
     ]
    }
   ],
   "source": [
    "from sklearn.neighbors import KNeighborsClassifier\n",
    "from sklearn.model_selection import train_test_split\n",
    "\n",
    "# Take 20% of the data out for testing\n",
    "X_train, X_test, y_train, y_test = train_test_split(X,y,test_size = 0.2,random_state = 3) \n"
   ]
  },
  {
   "cell_type": "markdown",
   "metadata": {},
   "source": [
    "Now we need to train the model on our training data:"
   ]
  },
  {
   "cell_type": "code",
   "execution_count": 4,
   "metadata": {},
   "outputs": [
    {
     "data": {
      "text/html": [
       "<style>#sk-container-id-1 {color: black;}#sk-container-id-1 pre{padding: 0;}#sk-container-id-1 div.sk-toggleable {background-color: white;}#sk-container-id-1 label.sk-toggleable__label {cursor: pointer;display: block;width: 100%;margin-bottom: 0;padding: 0.3em;box-sizing: border-box;text-align: center;}#sk-container-id-1 label.sk-toggleable__label-arrow:before {content: \"▸\";float: left;margin-right: 0.25em;color: #696969;}#sk-container-id-1 label.sk-toggleable__label-arrow:hover:before {color: black;}#sk-container-id-1 div.sk-estimator:hover label.sk-toggleable__label-arrow:before {color: black;}#sk-container-id-1 div.sk-toggleable__content {max-height: 0;max-width: 0;overflow: hidden;text-align: left;background-color: #f0f8ff;}#sk-container-id-1 div.sk-toggleable__content pre {margin: 0.2em;color: black;border-radius: 0.25em;background-color: #f0f8ff;}#sk-container-id-1 input.sk-toggleable__control:checked~div.sk-toggleable__content {max-height: 200px;max-width: 100%;overflow: auto;}#sk-container-id-1 input.sk-toggleable__control:checked~label.sk-toggleable__label-arrow:before {content: \"▾\";}#sk-container-id-1 div.sk-estimator input.sk-toggleable__control:checked~label.sk-toggleable__label {background-color: #d4ebff;}#sk-container-id-1 div.sk-label input.sk-toggleable__control:checked~label.sk-toggleable__label {background-color: #d4ebff;}#sk-container-id-1 input.sk-hidden--visually {border: 0;clip: rect(1px 1px 1px 1px);clip: rect(1px, 1px, 1px, 1px);height: 1px;margin: -1px;overflow: hidden;padding: 0;position: absolute;width: 1px;}#sk-container-id-1 div.sk-estimator {font-family: monospace;background-color: #f0f8ff;border: 1px dotted black;border-radius: 0.25em;box-sizing: border-box;margin-bottom: 0.5em;}#sk-container-id-1 div.sk-estimator:hover {background-color: #d4ebff;}#sk-container-id-1 div.sk-parallel-item::after {content: \"\";width: 100%;border-bottom: 1px solid gray;flex-grow: 1;}#sk-container-id-1 div.sk-label:hover label.sk-toggleable__label {background-color: #d4ebff;}#sk-container-id-1 div.sk-serial::before {content: \"\";position: absolute;border-left: 1px solid gray;box-sizing: border-box;top: 0;bottom: 0;left: 50%;z-index: 0;}#sk-container-id-1 div.sk-serial {display: flex;flex-direction: column;align-items: center;background-color: white;padding-right: 0.2em;padding-left: 0.2em;position: relative;}#sk-container-id-1 div.sk-item {position: relative;z-index: 1;}#sk-container-id-1 div.sk-parallel {display: flex;align-items: stretch;justify-content: center;background-color: white;position: relative;}#sk-container-id-1 div.sk-item::before, #sk-container-id-1 div.sk-parallel-item::before {content: \"\";position: absolute;border-left: 1px solid gray;box-sizing: border-box;top: 0;bottom: 0;left: 50%;z-index: -1;}#sk-container-id-1 div.sk-parallel-item {display: flex;flex-direction: column;z-index: 1;position: relative;background-color: white;}#sk-container-id-1 div.sk-parallel-item:first-child::after {align-self: flex-end;width: 50%;}#sk-container-id-1 div.sk-parallel-item:last-child::after {align-self: flex-start;width: 50%;}#sk-container-id-1 div.sk-parallel-item:only-child::after {width: 0;}#sk-container-id-1 div.sk-dashed-wrapped {border: 1px dashed gray;margin: 0 0.4em 0.5em 0.4em;box-sizing: border-box;padding-bottom: 0.4em;background-color: white;}#sk-container-id-1 div.sk-label label {font-family: monospace;font-weight: bold;display: inline-block;line-height: 1.2em;}#sk-container-id-1 div.sk-label-container {text-align: center;}#sk-container-id-1 div.sk-container {/* jupyter's `normalize.less` sets `[hidden] { display: none; }` but bootstrap.min.css set `[hidden] { display: none !important; }` so we also need the `!important` here to be able to override the default hidden behavior on the sphinx rendered scikit-learn.org. See: https://github.com/scikit-learn/scikit-learn/issues/21755 */display: inline-block !important;position: relative;}#sk-container-id-1 div.sk-text-repr-fallback {display: none;}</style><div id=\"sk-container-id-1\" class=\"sk-top-container\"><div class=\"sk-text-repr-fallback\"><pre>KNeighborsClassifier()</pre><b>In a Jupyter environment, please rerun this cell to show the HTML representation or trust the notebook. <br />On GitHub, the HTML representation is unable to render, please try loading this page with nbviewer.org.</b></div><div class=\"sk-container\" hidden><div class=\"sk-item\"><div class=\"sk-estimator sk-toggleable\"><input class=\"sk-toggleable__control sk-hidden--visually\" id=\"sk-estimator-id-1\" type=\"checkbox\" checked><label for=\"sk-estimator-id-1\" class=\"sk-toggleable__label sk-toggleable__label-arrow\">KNeighborsClassifier</label><div class=\"sk-toggleable__content\"><pre>KNeighborsClassifier()</pre></div></div></div></div></div>"
      ],
      "text/plain": [
       "KNeighborsClassifier()"
      ]
     },
     "execution_count": 4,
     "metadata": {},
     "output_type": "execute_result"
    }
   ],
   "source": [
    "# These are hyperparameters of the k-NN algorithm\n",
    "neighbours = 5\n",
    "weights = 'uniform'\n",
    "# weights = 'distance'\n",
    "\n",
    "knn_toy = KNeighborsClassifier(neighbours, weights = weights)\n",
    "knn_toy.fit(X_train,y_train)"
   ]
  },
  {
   "cell_type": "markdown",
   "metadata": {},
   "source": [
    "We have now trained the algorithm. For k-NN, this is as simple as saving the training points to the model object, as it is an instance-based learning method, but later on we will encounter algorithms that have a more involved training process.\n",
    "\n",
    "From here, the next step is to try predicting our test data. We know what the true class of each sample should be, so we can identify if the k-NN prediction is right or wrong. We calculate the **classification accuracy**, which is the ratio of correct predictions to the total number of predictions, so the proportion of test points predicted correctly. This is therefore defined as\n",
    "\n",
    "\\begin{equation*}\n",
    "    \\text{Accuracy} = \\frac{N_{\\text{correct}}}{N_{\\text{total}}},\n",
    "\\end{equation*}\n",
    "where $N_{\\text{correct}}$ denotes the number of correctly predicted test points and $N_{\\text{total}}$ denotes the total number of test points.\n",
    "\n",
    "Now we can calculate it for our toy model:"
   ]
  },
  {
   "cell_type": "code",
   "execution_count": 5,
   "metadata": {},
   "outputs": [
    {
     "name": "stdout",
     "output_type": "stream",
     "text": [
      "Classification accuracy = 0.9833333333333333\n"
     ]
    }
   ],
   "source": [
    "y_pred = knn_toy.predict(X_test)\n",
    "\n",
    "correct, total = 0, 0\n",
    "for i in range(len(y_pred)):\n",
    "    if y_pred[i]==y_test[i]:\n",
    "        correct += 1\n",
    "    total+=1\n",
    "\n",
    "print(f\"Classification accuracy = {correct/total}\")\n"
   ]
  },
  {
   "cell_type": "markdown",
   "metadata": {},
   "source": [
    "We've done this by hand here, but sklearn also has a function that will do this for us:"
   ]
  },
  {
   "cell_type": "code",
   "execution_count": 10,
   "metadata": {},
   "outputs": [
    {
     "data": {
      "text/plain": [
       "0.9833333333333333"
      ]
     },
     "execution_count": 10,
     "metadata": {},
     "output_type": "execute_result"
    }
   ],
   "source": [
    "from sklearn.metrics import accuracy_score\n",
    "\n",
    "accuracy_score(y_test, y_pred)"
   ]
  },
  {
   "cell_type": "markdown",
   "metadata": {},
   "source": [
    "<div style=\"background-color:#C2F5DD\">\n",
    "\n",
    "\n",
    "### Example\n",
    "\n",
    "Now you have the steps to build, train and test a k-NN classifier, try varying the hyperparameters and try to find the best results you can. Hyperparameters to try varying include:\n",
    "* The value of $k$\n",
    "* The weight scheme\n",
    "\n",
    "There are others, take a look at the [documentation](https://scikit-learn.org/stable/modules/generated/sklearn.neighbors.KNeighborsClassifier.html) to see what else you can vary. Make sure to record whatever you do vary!\n",
    "\n",
    "Record your results in a Pandas DataFrame, with a column for each hyperparameter you vary and one for your test classification accuracy.\n",
    "    \n",
    "Which hyperparameters performed the best? Answer in the Markdown cell below."
   ]
  },
  {
   "cell_type": "code",
   "execution_count": 43,
   "metadata": {},
   "outputs": [],
   "source": [
    "# Define your hyperparameters\n",
    "from sklearn.model_selection import cross_val_score\n",
    "\n",
    "k_list = [2,5,7,10,20,40,60,100] \n",
    "params_dict_uni = {'k':[], 'weights':np.full(len(k_list),'uniform'), 'accuracy':[], 'cross_val':[]}\n",
    "params_dict_dist = {'k':[], 'weights':np.full(len(k_list),'distance'), 'accuracy':[], 'cross_val':[]}"
   ]
  },
  {
   "cell_type": "code",
   "execution_count": 44,
   "metadata": {},
   "outputs": [],
   "source": [
    "# Define your model\n",
    "for k in k_list:\n",
    "    model_uni=KNeighborsClassifier(k, weights = 'uniform')\n",
    "    model_dist=KNeighborsClassifier(k, weights = 'distance')\n",
    "    model_uni.fit(X_train,y_train)\n",
    "    model_dist.fit(X_train,y_train)\n",
    "    params_dict_uni['k'].append(k)\n",
    "    params_dict_dist['k'].append(k)\n",
    "    params_dict_uni['cross_val'].append(cross_val_score(model_uni,X_train,y_train))\n",
    "    params_dict_dist['cross_val'].append(cross_val_score(model_dist,X_train,y_train))\n",
    "    params_dict_uni['accuracy'].append(accuracy_score(y_test,model_uni.predict(X_test)))\n",
    "    params_dict_dist['accuracy'].append(accuracy_score(y_test,model_dist.predict(X_test)))\n",
    "    \n"
   ]
  },
  {
   "cell_type": "code",
   "execution_count": 45,
   "metadata": {},
   "outputs": [],
   "source": [
    "# Fit your model\n",
    "test_df = pd.DataFrame(params_dict_uni)\n",
    "test_df=pd.concat([test_df,pd.DataFrame(params_dict_dist)])\n"
   ]
  },
  {
   "cell_type": "code",
   "execution_count": 46,
   "metadata": {},
   "outputs": [
    {
     "data": {
      "text/html": [
       "<div>\n",
       "<style scoped>\n",
       "    .dataframe tbody tr th:only-of-type {\n",
       "        vertical-align: middle;\n",
       "    }\n",
       "\n",
       "    .dataframe tbody tr th {\n",
       "        vertical-align: top;\n",
       "    }\n",
       "\n",
       "    .dataframe thead th {\n",
       "        text-align: right;\n",
       "    }\n",
       "</style>\n",
       "<table border=\"1\" class=\"dataframe\">\n",
       "  <thead>\n",
       "    <tr style=\"text-align: right;\">\n",
       "      <th></th>\n",
       "      <th>k</th>\n",
       "      <th>weights</th>\n",
       "      <th>accuracy</th>\n",
       "      <th>cross_val</th>\n",
       "    </tr>\n",
       "  </thead>\n",
       "  <tbody>\n",
       "    <tr>\n",
       "      <th>0</th>\n",
       "      <td>2</td>\n",
       "      <td>uniform</td>\n",
       "      <td>0.983333</td>\n",
       "      <td>[1.0, 0.9791666666666666, 0.9791666666666666, ...</td>\n",
       "    </tr>\n",
       "    <tr>\n",
       "      <th>1</th>\n",
       "      <td>5</td>\n",
       "      <td>uniform</td>\n",
       "      <td>0.983333</td>\n",
       "      <td>[0.9791666666666666, 1.0, 0.9791666666666666, ...</td>\n",
       "    </tr>\n",
       "    <tr>\n",
       "      <th>2</th>\n",
       "      <td>7</td>\n",
       "      <td>uniform</td>\n",
       "      <td>0.966667</td>\n",
       "      <td>[0.9791666666666666, 1.0, 0.9583333333333334, ...</td>\n",
       "    </tr>\n",
       "    <tr>\n",
       "      <th>3</th>\n",
       "      <td>10</td>\n",
       "      <td>uniform</td>\n",
       "      <td>0.966667</td>\n",
       "      <td>[1.0, 1.0, 0.9583333333333334, 0.9583333333333...</td>\n",
       "    </tr>\n",
       "    <tr>\n",
       "      <th>4</th>\n",
       "      <td>20</td>\n",
       "      <td>uniform</td>\n",
       "      <td>0.966667</td>\n",
       "      <td>[1.0, 1.0, 0.9583333333333334, 0.9583333333333...</td>\n",
       "    </tr>\n",
       "    <tr>\n",
       "      <th>5</th>\n",
       "      <td>40</td>\n",
       "      <td>uniform</td>\n",
       "      <td>0.966667</td>\n",
       "      <td>[0.9791666666666666, 1.0, 0.9791666666666666, ...</td>\n",
       "    </tr>\n",
       "    <tr>\n",
       "      <th>6</th>\n",
       "      <td>60</td>\n",
       "      <td>uniform</td>\n",
       "      <td>0.983333</td>\n",
       "      <td>[1.0, 1.0, 0.9791666666666666, 0.9583333333333...</td>\n",
       "    </tr>\n",
       "    <tr>\n",
       "      <th>7</th>\n",
       "      <td>100</td>\n",
       "      <td>uniform</td>\n",
       "      <td>0.983333</td>\n",
       "      <td>[0.9791666666666666, 1.0, 0.9791666666666666, ...</td>\n",
       "    </tr>\n",
       "    <tr>\n",
       "      <th>0</th>\n",
       "      <td>2</td>\n",
       "      <td>distance</td>\n",
       "      <td>0.983333</td>\n",
       "      <td>[1.0, 0.9791666666666666, 0.9791666666666666, ...</td>\n",
       "    </tr>\n",
       "    <tr>\n",
       "      <th>1</th>\n",
       "      <td>5</td>\n",
       "      <td>distance</td>\n",
       "      <td>0.983333</td>\n",
       "      <td>[0.9791666666666666, 1.0, 0.9791666666666666, ...</td>\n",
       "    </tr>\n",
       "    <tr>\n",
       "      <th>2</th>\n",
       "      <td>7</td>\n",
       "      <td>distance</td>\n",
       "      <td>0.983333</td>\n",
       "      <td>[0.9791666666666666, 1.0, 0.9583333333333334, ...</td>\n",
       "    </tr>\n",
       "    <tr>\n",
       "      <th>3</th>\n",
       "      <td>10</td>\n",
       "      <td>distance</td>\n",
       "      <td>0.983333</td>\n",
       "      <td>[1.0, 1.0, 0.9583333333333334, 0.9583333333333...</td>\n",
       "    </tr>\n",
       "    <tr>\n",
       "      <th>4</th>\n",
       "      <td>20</td>\n",
       "      <td>distance</td>\n",
       "      <td>0.983333</td>\n",
       "      <td>[1.0, 1.0, 0.9583333333333334, 0.9583333333333...</td>\n",
       "    </tr>\n",
       "    <tr>\n",
       "      <th>5</th>\n",
       "      <td>40</td>\n",
       "      <td>distance</td>\n",
       "      <td>0.983333</td>\n",
       "      <td>[0.9791666666666666, 1.0, 0.9583333333333334, ...</td>\n",
       "    </tr>\n",
       "    <tr>\n",
       "      <th>6</th>\n",
       "      <td>60</td>\n",
       "      <td>distance</td>\n",
       "      <td>0.983333</td>\n",
       "      <td>[1.0, 1.0, 0.9791666666666666, 0.9583333333333...</td>\n",
       "    </tr>\n",
       "    <tr>\n",
       "      <th>7</th>\n",
       "      <td>100</td>\n",
       "      <td>distance</td>\n",
       "      <td>0.983333</td>\n",
       "      <td>[0.9791666666666666, 1.0, 0.9791666666666666, ...</td>\n",
       "    </tr>\n",
       "  </tbody>\n",
       "</table>\n",
       "</div>"
      ],
      "text/plain": [
       "     k   weights  accuracy                                          cross_val\n",
       "0    2   uniform  0.983333  [1.0, 0.9791666666666666, 0.9791666666666666, ...\n",
       "1    5   uniform  0.983333  [0.9791666666666666, 1.0, 0.9791666666666666, ...\n",
       "2    7   uniform  0.966667  [0.9791666666666666, 1.0, 0.9583333333333334, ...\n",
       "3   10   uniform  0.966667  [1.0, 1.0, 0.9583333333333334, 0.9583333333333...\n",
       "4   20   uniform  0.966667  [1.0, 1.0, 0.9583333333333334, 0.9583333333333...\n",
       "5   40   uniform  0.966667  [0.9791666666666666, 1.0, 0.9791666666666666, ...\n",
       "6   60   uniform  0.983333  [1.0, 1.0, 0.9791666666666666, 0.9583333333333...\n",
       "7  100   uniform  0.983333  [0.9791666666666666, 1.0, 0.9791666666666666, ...\n",
       "0    2  distance  0.983333  [1.0, 0.9791666666666666, 0.9791666666666666, ...\n",
       "1    5  distance  0.983333  [0.9791666666666666, 1.0, 0.9791666666666666, ...\n",
       "2    7  distance  0.983333  [0.9791666666666666, 1.0, 0.9583333333333334, ...\n",
       "3   10  distance  0.983333  [1.0, 1.0, 0.9583333333333334, 0.9583333333333...\n",
       "4   20  distance  0.983333  [1.0, 1.0, 0.9583333333333334, 0.9583333333333...\n",
       "5   40  distance  0.983333  [0.9791666666666666, 1.0, 0.9583333333333334, ...\n",
       "6   60  distance  0.983333  [1.0, 1.0, 0.9791666666666666, 0.9583333333333...\n",
       "7  100  distance  0.983333  [0.9791666666666666, 1.0, 0.9791666666666666, ..."
      ]
     },
     "execution_count": 46,
     "metadata": {},
     "output_type": "execute_result"
    }
   ],
   "source": [
    "# Predict on test data and calculate classification accuracy\n",
    "test_df"
   ]
  },
  {
   "cell_type": "code",
   "execution_count": null,
   "metadata": {},
   "outputs": [],
   "source": [
    "# Add results to pandas DataFrame\n",
    "# Hint: put the new data into a dictionary, then use DataFrame.append (check the documentation \n",
    "# if you are unsure)\n",
    "\n"
   ]
  },
  {
   "cell_type": "code",
   "execution_count": null,
   "metadata": {},
   "outputs": [],
   "source": [
    "# Print final pandas DataFrame\n",
    "\n"
   ]
  },
  {
   "cell_type": "markdown",
   "metadata": {},
   "source": [
    "Your answer here"
   ]
  },
  {
   "cell_type": "markdown",
   "metadata": {},
   "source": [
    "## Summary\n",
    "\n",
    "This section has introduced the k-Nearest Neighbours algorithm, including:\n",
    " * Classification & regression examples\n",
    " * A toy model for classification\n",
    " * The general steps for preparing data, training a model, and testing on test data\n",
    "\n",
    "The following section describes some of the difficulties we can encounter with machine learning, and how we can handle some of them."
   ]
  },
  {
   "cell_type": "markdown",
   "metadata": {},
   "source": [
    "<hr style=\"border:2px solid gray\">\n",
    "<a id='section-3'></a>\n",
    "\n",
    "# Section Three: Challenges in ML [^](#outline)\n"
   ]
  },
  {
   "cell_type": "markdown",
   "metadata": {},
   "source": [
    "\n",
    "So far, applying ML has seemed pretty simple. However, there are many possible pitfalls with these approaches that you need to be aware of. In fact, there have been several high-profile incidences of machine learning algorithms going wrong. These include:\n",
    "\n",
    "* Amazon's development of an AI tool to help shortlist job applicants, which was trained on the previous 10 years of resumes submitted to Amazon. Because these resumes were predominantly from male candidates, the algorithm \"learned\" that male candidates were more likely to be successful and therefore penalised resumes that had terms identifying it as a female applicant. Attempts were made to reduce the bias but ultimately were unsuccessful and the [project was scrapped](https://www.bbc.co.uk/news/technology-45809919).\n",
    "* Microsoft's AI chatbot Tay, which was released on Twitter and learned from interacting with people on the platform. [Within 16 hours the project was taken down](https://en.wikipedia.org/wiki/Tay_(chatbot)) as the AI started posting racist and sexist tweets, due to learning from users spamming it with politically incorrect phrases and disciminatory language. \n",
    "\n",
    "Because the model just learns from your data, if you are not careful with what is in your training data you can easily produce results that are a) unexpected, and b) undesirable. This is one of the many reasons why it is important to visualise and understand your training dataset.\n",
    "\n",
    "A few possible challenges include:\n",
    "\n",
    "* **Insufficient training data**: to build an accurate, generalisable model, you typically need **a lot** of training data; insufficient data means your model can't accurately learn the function $f$ and so cannot make accurate predictions\n",
    "<br>\n",
    "\n",
    "* **Biased training data**: perhaps more dangerous than insufficient training data, as biased training data can mean your model does very well in some cases, but very poorly in others. This can be e.g. an imbalanced training dataset, where you show more examples of one class than the others like the Amazon example above, or systematic issues with measurement e.g. poor thermal contact, zero error, background noise etc.\n",
    "<br>\n",
    "\n",
    "* **Poor quality training data**: if your data is noisy, or has a lot of outliers, your model cannot accurately learn the function mapping inputs to targets. For data with values missing for some features (e.g. if you have issues with measurement equipment) you can mitigate to some extent by either taking a median value or setting it to far outside of a reasonable range so the model learns not to use it.\n",
    "<br>\n",
    "\n",
    "* **Overfitting**: overfitting describes the situation where a model learns how to predict the training data and **only** the training data. The model is sufficiently complex that it can perfectly fit the training data, e.g. fitting a high order polynomial to data that is perhaps better modelled as a linear relationship with some noise. This results in poor prediction for unseen data, but can be mitigated at training time by including **regularisation**.\n",
    "<br>\n",
    "\n",
    "* **Underfitting**: the opposite of overfitting, this occurs when your model is not sufficiently complex to capture the features of the data. As a result, it is not capable of learning the function behind the data. An example would be trying to fit a quadratic dataset with a linear model.\n",
    "\n",
    "<div>\n",
    "<img src=ML_Week5_Photos/under_vs_over_fitting.png width=700 align='center'/>\n",
    "<div/>\n",
    "\n",
    "*Example of under and over fitting on quadratic data using traditional fitting, like we discussed in Week 4 . The generated data is quadratic with Gaussian noise. The linear model clearly underfits and does not accurately approximate the data, whereas the high-order polynomial (order 300) overfits, resulting in predictions that will not generalise despite good performance on the existing data.*"
   ]
  },
  {
   "cell_type": "markdown",
   "metadata": {},
   "source": [
    "\n",
    "The only way to know if your model has generalised well is to **validate it on data**. As mentioned before, the normal way to do this is to separate your data into **training data** and **testing data**. You use the **training data** to train your model and the **testing data** to test how well it has generalised. If there is a large difference in the performance of the model on the training data compared to the performance on the testing data it shows that your model has been **overtrained** and is learning features that are specific to your training data. \n",
    "\n",
    "**Note:** *What fraction of your data should you use to train and what fraction to test?* There is no single answer to this question, but in most cases the training:testing ratio is around 80:20 or 70:30.\n",
    "\n"
   ]
  },
  {
   "cell_type": "markdown",
   "metadata": {},
   "source": [
    "## Cross-Validation\n",
    "\n",
    "Of course, because we can vary hyperparameters or even the specific algorithm we choose to use for the problem, this isn't all we need to consider. Historically, it was common to iterate on an ML algorithm, varying hyperparameters, until the performance on the **test data** was deemed sufficiently good. Of course, if this is done, you are implicitly learning the test data to some degree, just through your hyperparameter optimisation rather than during the training procedure. "
   ]
  },
  {
   "cell_type": "markdown",
   "metadata": {},
   "source": [
    "To get around this, the idea of cross validation came around. This is where you break down the training set into a number of smaller sets called **folds**. You then train your model with all but one of these folds and evaluate with remaining fold. This way you get an array of evaluations to validate individual attempts at training a model. Your test data can (and should) be kept to one side for final evaluation after you have finished optimising your model training. "
   ]
  },
  {
   "cell_type": "markdown",
   "metadata": {},
   "source": [
    "<div style=\"background-color:#FFCCCB\">\n",
    "\n",
    "### $T$-fold Cross-Validation\n",
    "\n",
    "This is when we **split our data** into **training-validation** sets $T$-times (sometimes can be called $k$-fold Cross-Validation, but we have used a $T$ to avoid confusion with k-NN) to reduce the risk of **overfitting** to the full training data or to parts of the training data.\n",
    "\n",
    "Mathematically, the procedure is as follows. We split the data $\\mathcal{S}=\\{\\mathbf{X}^{(i)}, y^{(i)}\\}$ for $i=1,...,N$ equally sized subsets $\\mathcal{S_{t}}$ such that\n",
    "\\begin{equation*}\n",
    "\\mathcal{S}=\\bigcup_{t=1}^{T}\\mathcal{S}_{t} \\; \\text{and} \\; |\\mathcal{S}_{t}|=\\frac{|\\mathcal{S}|}{T},\n",
    "\\end{equation*}\n",
    "where $|\\mathcal{S_{m}}|$ is the size of the $mth$ subset. We set aside one of the subsets and train the model on the rest of the samples i.e. $\\overline{\\mathcal{S_{t}}}=\\mathcal{S}-\\mathcal{S_{t}}$. We learn a model $\\hat{f}_{\\overline{\\mathcal{S_{t}}}}$, which we use to predict $\\mathcal{S_{t}}$. We then compute an error measure for the prediction on $\\mathcal{S_{t}}$ (for example the classification accuracy):\n",
    "\\begin{equation*}\n",
    "\\text{Accuracy}_t = \\frac{N_{\\text{correct}}^t}{N_{\\text{total}}^t}, \n",
    "\\end{equation*}\n",
    "where $\\text{Accuracy}_t$ denotes the accuracy of the model trained on subset $\\overline{\\mathcal{S}_{t}}$, and $N_{\\text{correct}}^t$ and $N_{\\text{total}}^t$ denote the total number of correct predictions and total number of predictions made on the subset $\\mathcal{S}_t$ respectively.\n",
    "\n",
    "The same process is done in turn for each of the subsets of our split $\\mathcal{S}_{t}$, $t=1,..,T$ in each case obtaining a different model for their corresponding complement. \n",
    "\n",
    "We then compute the average classification accuracy over all $T$-folds:\n",
    "\\begin{equation*}\n",
    "\\langle\\text{Accuracy}\\rangle=\\frac{1}{T}\\sum_{t=1}^{T}\\text{Accuracy}_t.\n",
    "\\end{equation*}\n",
    "\n",
    "This average classification accuracy is then a measure of how well the model predicts *out-of-sample* i.e. on data that is not in its training set in a given fold.\n",
    "\n",
    "**Choosing number of folds $T$:** It seems clear that the way in which we split the data into training and validation, and the balance between both sets, will effect the results of the cross-validation. The extreme case is $T=N$, which is called **leave-one-out** cross-validation (LOO-CV). This tests how well each sample can be predicted from the rest of the samples. However this is computationally expensive and **not necessary**.\n",
    "\n",
    "In practice, the number of folds $T$ is chosen based on the size of the data and the amount of computing power available; larger $T$ means more models need to be fit. Typically $T=5$ is used for a smaller dataset and $T=10$ for larger ones, so that one does out-of-sample prediction on validation sets that contain around $10%$ od the data\n",
    "\n",
    "More information can be found [here](https://machinelearningmastery.com/k-fold-cross-validation/)."
   ]
  },
  {
   "cell_type": "markdown",
   "metadata": {},
   "source": [
    "It is easy to do cross-validation with `sklearn`, using the ```cross_val_score``` function. Each ML algorithm in `sklearn` has an default **scorer**, which in the case of classification algorithms is the classification accuracy. You will see more details about ML performance metrics in a couple weeks time, but for now we will use cross validation with our toy k-NN model to see how it works:"
   ]
  },
  {
   "cell_type": "code",
   "execution_count": 41,
   "metadata": {},
   "outputs": [
    {
     "data": {
      "text/plain": [
       "array([0.97916667, 1.        , 0.97916667, 0.95833333, 0.97916667])"
      ]
     },
     "execution_count": 41,
     "metadata": {},
     "output_type": "execute_result"
    }
   ],
   "source": [
    "from sklearn.model_selection import cross_val_score\n",
    "\n",
    "cross_val_score(knn_toy, X_train, y_train)"
   ]
  },
  {
   "cell_type": "markdown",
   "metadata": {},
   "source": [
    "You will apply this to your toy k-NN again in Exercise Two."
   ]
  },
  {
   "cell_type": "markdown",
   "metadata": {},
   "source": [
    "## A brief introduction to the Support Vector Machine\n",
    "\n",
    "Of course, as mentioned before, the ```cross_val_score``` syntax is the same for each type of ML algorithm implemented in sklearn; to illustrate this, we are going to introduce (very briefly) another algorithm: the Support Vector Machine (SVM). We won't talk about any details here but you will see the full detail of this algorithm next week. In fact, the syntax of setting up and training a SVM classifier is actually pretty much identical to what you have seen already with k-NN, albeit with different hyperparameters:"
   ]
  },
  {
   "cell_type": "code",
   "execution_count": 40,
   "metadata": {},
   "outputs": [
    {
     "data": {
      "text/html": [
       "<style>#sk-container-id-2 {color: black;}#sk-container-id-2 pre{padding: 0;}#sk-container-id-2 div.sk-toggleable {background-color: white;}#sk-container-id-2 label.sk-toggleable__label {cursor: pointer;display: block;width: 100%;margin-bottom: 0;padding: 0.3em;box-sizing: border-box;text-align: center;}#sk-container-id-2 label.sk-toggleable__label-arrow:before {content: \"▸\";float: left;margin-right: 0.25em;color: #696969;}#sk-container-id-2 label.sk-toggleable__label-arrow:hover:before {color: black;}#sk-container-id-2 div.sk-estimator:hover label.sk-toggleable__label-arrow:before {color: black;}#sk-container-id-2 div.sk-toggleable__content {max-height: 0;max-width: 0;overflow: hidden;text-align: left;background-color: #f0f8ff;}#sk-container-id-2 div.sk-toggleable__content pre {margin: 0.2em;color: black;border-radius: 0.25em;background-color: #f0f8ff;}#sk-container-id-2 input.sk-toggleable__control:checked~div.sk-toggleable__content {max-height: 200px;max-width: 100%;overflow: auto;}#sk-container-id-2 input.sk-toggleable__control:checked~label.sk-toggleable__label-arrow:before {content: \"▾\";}#sk-container-id-2 div.sk-estimator input.sk-toggleable__control:checked~label.sk-toggleable__label {background-color: #d4ebff;}#sk-container-id-2 div.sk-label input.sk-toggleable__control:checked~label.sk-toggleable__label {background-color: #d4ebff;}#sk-container-id-2 input.sk-hidden--visually {border: 0;clip: rect(1px 1px 1px 1px);clip: rect(1px, 1px, 1px, 1px);height: 1px;margin: -1px;overflow: hidden;padding: 0;position: absolute;width: 1px;}#sk-container-id-2 div.sk-estimator {font-family: monospace;background-color: #f0f8ff;border: 1px dotted black;border-radius: 0.25em;box-sizing: border-box;margin-bottom: 0.5em;}#sk-container-id-2 div.sk-estimator:hover {background-color: #d4ebff;}#sk-container-id-2 div.sk-parallel-item::after {content: \"\";width: 100%;border-bottom: 1px solid gray;flex-grow: 1;}#sk-container-id-2 div.sk-label:hover label.sk-toggleable__label {background-color: #d4ebff;}#sk-container-id-2 div.sk-serial::before {content: \"\";position: absolute;border-left: 1px solid gray;box-sizing: border-box;top: 0;bottom: 0;left: 50%;z-index: 0;}#sk-container-id-2 div.sk-serial {display: flex;flex-direction: column;align-items: center;background-color: white;padding-right: 0.2em;padding-left: 0.2em;position: relative;}#sk-container-id-2 div.sk-item {position: relative;z-index: 1;}#sk-container-id-2 div.sk-parallel {display: flex;align-items: stretch;justify-content: center;background-color: white;position: relative;}#sk-container-id-2 div.sk-item::before, #sk-container-id-2 div.sk-parallel-item::before {content: \"\";position: absolute;border-left: 1px solid gray;box-sizing: border-box;top: 0;bottom: 0;left: 50%;z-index: -1;}#sk-container-id-2 div.sk-parallel-item {display: flex;flex-direction: column;z-index: 1;position: relative;background-color: white;}#sk-container-id-2 div.sk-parallel-item:first-child::after {align-self: flex-end;width: 50%;}#sk-container-id-2 div.sk-parallel-item:last-child::after {align-self: flex-start;width: 50%;}#sk-container-id-2 div.sk-parallel-item:only-child::after {width: 0;}#sk-container-id-2 div.sk-dashed-wrapped {border: 1px dashed gray;margin: 0 0.4em 0.5em 0.4em;box-sizing: border-box;padding-bottom: 0.4em;background-color: white;}#sk-container-id-2 div.sk-label label {font-family: monospace;font-weight: bold;display: inline-block;line-height: 1.2em;}#sk-container-id-2 div.sk-label-container {text-align: center;}#sk-container-id-2 div.sk-container {/* jupyter's `normalize.less` sets `[hidden] { display: none; }` but bootstrap.min.css set `[hidden] { display: none !important; }` so we also need the `!important` here to be able to override the default hidden behavior on the sphinx rendered scikit-learn.org. See: https://github.com/scikit-learn/scikit-learn/issues/21755 */display: inline-block !important;position: relative;}#sk-container-id-2 div.sk-text-repr-fallback {display: none;}</style><div id=\"sk-container-id-2\" class=\"sk-top-container\"><div class=\"sk-text-repr-fallback\"><pre>SVC(C=1, kernel=&#x27;linear&#x27;)</pre><b>In a Jupyter environment, please rerun this cell to show the HTML representation or trust the notebook. <br />On GitHub, the HTML representation is unable to render, please try loading this page with nbviewer.org.</b></div><div class=\"sk-container\" hidden><div class=\"sk-item\"><div class=\"sk-estimator sk-toggleable\"><input class=\"sk-toggleable__control sk-hidden--visually\" id=\"sk-estimator-id-2\" type=\"checkbox\" checked><label for=\"sk-estimator-id-2\" class=\"sk-toggleable__label sk-toggleable__label-arrow\">SVC</label><div class=\"sk-toggleable__content\"><pre>SVC(C=1, kernel=&#x27;linear&#x27;)</pre></div></div></div></div></div>"
      ],
      "text/plain": [
       "SVC(C=1, kernel='linear')"
      ]
     },
     "execution_count": 40,
     "metadata": {},
     "output_type": "execute_result"
    }
   ],
   "source": [
    "from sklearn.svm import SVC\n",
    "\n",
    "C = 1\n",
    "kernel = 'linear'\n",
    "\n",
    "svc_toy = SVC(C = C, kernel = kernel)\n",
    "\n",
    "svc_toy.fit(X_train, y_train)"
   ]
  },
  {
   "cell_type": "markdown",
   "metadata": {},
   "source": [
    "For SVC, the prediction syntax is the same as for k-NN. You will try using this model on your toy data in Exercise Three. "
   ]
  },
  {
   "cell_type": "markdown",
   "metadata": {},
   "source": [
    "## Summary\n",
    "\n",
    "This section has outlined some of the possible issues with machine learning, as well as how they might be tackled, including:\n",
    "\n",
    "* issues with dataset bias, insufficient training data, over and under fitting\n",
    "* T-fold Cross Validation\n",
    "\n",
    "Additionally, the support vector machine has been (briefly) introduced for classification, to compare with the k-NN shown previously. The following section will describe the dataset you will be working with for the remainder of this week."
   ]
  },
  {
   "cell_type": "markdown",
   "metadata": {},
   "source": [
    "<hr style=\"border:2px solid gray\">\n",
    "<a name='section-4'></a>\n",
    "\n",
    "# Section Four: The Iris dataset [^](#outline)\n"
   ]
  },
  {
   "cell_type": "markdown",
   "metadata": {},
   "source": [
    "\n",
    "For the remainder of this workbook, we will be using one of the most famous datasets in machine learning. First published outside of the context of ML in 1936, this dataset describes three different types of iris flowers (*versicolor*, *setosa* and *virginica*) based on four different metrics: petal length, petal width, sepal length and sepal width. A photograph illustrating these features can be seen in the figure below.\n",
    "\n",
    "<img src=ML_Week5_Photos/iris-machinelearning.png align='center'>\n",
    "\n",
    "*Different kinds of iris used in the Iris dataset, with the petal and sepal labelled on the iris versicolor ([source](https://www.datacamp.com/tutorial/machine-learning-in-r)).*\n",
    "\n",
    "Further details about this dataset can be found online, e.g. on [Wikipedia](https://en.wikipedia.org/wiki/Iris_flower_data_set) and in the [original paper](https://onlinelibrary.wiley.com/doi/10.1111/j.1469-1809.1936.tb02137.x). This dataset is commonly used for testing new classification algorithms and is just generally widely applied, although the dataset itself is quite small. It is sufficiently popular that it is built into a lot of different machine learning codebases, including scikit-learn. It is easy to import:"
   ]
  },
  {
   "cell_type": "code",
   "execution_count": 49,
   "metadata": {},
   "outputs": [],
   "source": [
    "from sklearn.datasets import load_iris\n",
    "iris = load_iris()"
   ]
  },
  {
   "cell_type": "markdown",
   "metadata": {},
   "source": [
    "The loaded Iris dataset is contained within a dictionary. We can list the keys of the dictionary to see what is contained within the data:"
   ]
  },
  {
   "cell_type": "code",
   "execution_count": 50,
   "metadata": {},
   "outputs": [
    {
     "name": "stdout",
     "output_type": "stream",
     "text": [
      "dict_keys(['data', 'target', 'frame', 'target_names', 'DESCR', 'feature_names', 'filename', 'data_module'])\n"
     ]
    }
   ],
   "source": [
    "print(iris.keys())"
   ]
  },
  {
   "cell_type": "markdown",
   "metadata": {},
   "source": [
    "The ```scatter_matrix``` for this dataset is as follows:\n",
    "\n",
    "<div>\n",
    "<img src=ML_Week5_Photos/iris_scatter_matrix_legend.png align=\"center\" width=600>\n",
    "<div/>\n",
    "    \n",
    "Note that the legend has been added manually. "
   ]
  },
  {
   "cell_type": "markdown",
   "metadata": {},
   "source": [
    "Exercise Five covers visualising and investigating the IRIS dataset, while you will use it with k-NN and SVC in the exercises following that section."
   ]
  },
  {
   "cell_type": "markdown",
   "metadata": {},
   "source": [
    "## Summary\n",
    "\n",
    "In this section you have been briefly introduced to the IRIS dataset. \n",
    "\n",
    "You will use this dataset, your toy dataset, and the two classification algorithms we have introduced so far for the remainder of this week.\n",
    "\n",
    "The following section covers the exercises for you to work on yourselves this week.\n"
   ]
  },
  {
   "cell_type": "markdown",
   "metadata": {},
   "source": [
    "<hr style=\"border:2px solid gray\">\n",
    "\n",
    "<a name=\"section-5\"></a>\n",
    "\n",
    "# Section Five: Exercises [^](#outline)\n",
    "\n",
    "These exercises are here for you to get more experience using the algorithms presented earlier in this notebook. In each section, code cells have been given to help prompt you on each step to work through, but feel free to make your own steps if you want - just make sure you work through each of the tasks."
   ]
  },
  {
   "cell_type": "markdown",
   "metadata": {},
   "source": [
    "<div style=\"background-color:#C2F5DD\">\n",
    "\n",
    "### Exercise 1\n",
    "\n",
    "Calculate the ```cross_val_score``` for the different combinations of hyperparameters you investigated for the toy data in the earlier Example. Add the mean cross validation score to your pandas DataFrame as a new column.\n",
    "\n",
    "Does cross-validation score correlate with test data classification accuracy? Why/why not? Write your answer in the Markdown cell below."
   ]
  },
  {
   "cell_type": "code",
   "execution_count": null,
   "metadata": {},
   "outputs": [],
   "source": [
    "# Your code here\n",
    "##I've done this in in the initial loop \n",
    "# Define your hyperparameters\n"
   ]
  },
  {
   "cell_type": "code",
   "execution_count": null,
   "metadata": {},
   "outputs": [],
   "source": [
    "# Define your k-NN\n",
    "\n"
   ]
  },
  {
   "cell_type": "code",
   "execution_count": null,
   "metadata": {},
   "outputs": [],
   "source": [
    "# Train your k-NN\n",
    "\n"
   ]
  },
  {
   "cell_type": "code",
   "execution_count": 47,
   "metadata": {},
   "outputs": [
    {
     "data": {
      "text/html": [
       "<div>\n",
       "<style scoped>\n",
       "    .dataframe tbody tr th:only-of-type {\n",
       "        vertical-align: middle;\n",
       "    }\n",
       "\n",
       "    .dataframe tbody tr th {\n",
       "        vertical-align: top;\n",
       "    }\n",
       "\n",
       "    .dataframe thead th {\n",
       "        text-align: right;\n",
       "    }\n",
       "</style>\n",
       "<table border=\"1\" class=\"dataframe\">\n",
       "  <thead>\n",
       "    <tr style=\"text-align: right;\">\n",
       "      <th></th>\n",
       "      <th>k</th>\n",
       "      <th>weights</th>\n",
       "      <th>accuracy</th>\n",
       "      <th>cross_val</th>\n",
       "    </tr>\n",
       "  </thead>\n",
       "  <tbody>\n",
       "    <tr>\n",
       "      <th>0</th>\n",
       "      <td>2</td>\n",
       "      <td>uniform</td>\n",
       "      <td>0.983333</td>\n",
       "      <td>[1.0, 0.9791666666666666, 0.9791666666666666, ...</td>\n",
       "    </tr>\n",
       "    <tr>\n",
       "      <th>1</th>\n",
       "      <td>5</td>\n",
       "      <td>uniform</td>\n",
       "      <td>0.983333</td>\n",
       "      <td>[0.9791666666666666, 1.0, 0.9791666666666666, ...</td>\n",
       "    </tr>\n",
       "    <tr>\n",
       "      <th>2</th>\n",
       "      <td>7</td>\n",
       "      <td>uniform</td>\n",
       "      <td>0.966667</td>\n",
       "      <td>[0.9791666666666666, 1.0, 0.9583333333333334, ...</td>\n",
       "    </tr>\n",
       "    <tr>\n",
       "      <th>3</th>\n",
       "      <td>10</td>\n",
       "      <td>uniform</td>\n",
       "      <td>0.966667</td>\n",
       "      <td>[1.0, 1.0, 0.9583333333333334, 0.9583333333333...</td>\n",
       "    </tr>\n",
       "    <tr>\n",
       "      <th>4</th>\n",
       "      <td>20</td>\n",
       "      <td>uniform</td>\n",
       "      <td>0.966667</td>\n",
       "      <td>[1.0, 1.0, 0.9583333333333334, 0.9583333333333...</td>\n",
       "    </tr>\n",
       "    <tr>\n",
       "      <th>5</th>\n",
       "      <td>40</td>\n",
       "      <td>uniform</td>\n",
       "      <td>0.966667</td>\n",
       "      <td>[0.9791666666666666, 1.0, 0.9791666666666666, ...</td>\n",
       "    </tr>\n",
       "    <tr>\n",
       "      <th>6</th>\n",
       "      <td>60</td>\n",
       "      <td>uniform</td>\n",
       "      <td>0.983333</td>\n",
       "      <td>[1.0, 1.0, 0.9791666666666666, 0.9583333333333...</td>\n",
       "    </tr>\n",
       "    <tr>\n",
       "      <th>7</th>\n",
       "      <td>100</td>\n",
       "      <td>uniform</td>\n",
       "      <td>0.983333</td>\n",
       "      <td>[0.9791666666666666, 1.0, 0.9791666666666666, ...</td>\n",
       "    </tr>\n",
       "    <tr>\n",
       "      <th>0</th>\n",
       "      <td>2</td>\n",
       "      <td>distance</td>\n",
       "      <td>0.983333</td>\n",
       "      <td>[1.0, 0.9791666666666666, 0.9791666666666666, ...</td>\n",
       "    </tr>\n",
       "    <tr>\n",
       "      <th>1</th>\n",
       "      <td>5</td>\n",
       "      <td>distance</td>\n",
       "      <td>0.983333</td>\n",
       "      <td>[0.9791666666666666, 1.0, 0.9791666666666666, ...</td>\n",
       "    </tr>\n",
       "    <tr>\n",
       "      <th>2</th>\n",
       "      <td>7</td>\n",
       "      <td>distance</td>\n",
       "      <td>0.983333</td>\n",
       "      <td>[0.9791666666666666, 1.0, 0.9583333333333334, ...</td>\n",
       "    </tr>\n",
       "    <tr>\n",
       "      <th>3</th>\n",
       "      <td>10</td>\n",
       "      <td>distance</td>\n",
       "      <td>0.983333</td>\n",
       "      <td>[1.0, 1.0, 0.9583333333333334, 0.9583333333333...</td>\n",
       "    </tr>\n",
       "    <tr>\n",
       "      <th>4</th>\n",
       "      <td>20</td>\n",
       "      <td>distance</td>\n",
       "      <td>0.983333</td>\n",
       "      <td>[1.0, 1.0, 0.9583333333333334, 0.9583333333333...</td>\n",
       "    </tr>\n",
       "    <tr>\n",
       "      <th>5</th>\n",
       "      <td>40</td>\n",
       "      <td>distance</td>\n",
       "      <td>0.983333</td>\n",
       "      <td>[0.9791666666666666, 1.0, 0.9583333333333334, ...</td>\n",
       "    </tr>\n",
       "    <tr>\n",
       "      <th>6</th>\n",
       "      <td>60</td>\n",
       "      <td>distance</td>\n",
       "      <td>0.983333</td>\n",
       "      <td>[1.0, 1.0, 0.9791666666666666, 0.9583333333333...</td>\n",
       "    </tr>\n",
       "    <tr>\n",
       "      <th>7</th>\n",
       "      <td>100</td>\n",
       "      <td>distance</td>\n",
       "      <td>0.983333</td>\n",
       "      <td>[0.9791666666666666, 1.0, 0.9791666666666666, ...</td>\n",
       "    </tr>\n",
       "  </tbody>\n",
       "</table>\n",
       "</div>"
      ],
      "text/plain": [
       "     k   weights  accuracy                                          cross_val\n",
       "0    2   uniform  0.983333  [1.0, 0.9791666666666666, 0.9791666666666666, ...\n",
       "1    5   uniform  0.983333  [0.9791666666666666, 1.0, 0.9791666666666666, ...\n",
       "2    7   uniform  0.966667  [0.9791666666666666, 1.0, 0.9583333333333334, ...\n",
       "3   10   uniform  0.966667  [1.0, 1.0, 0.9583333333333334, 0.9583333333333...\n",
       "4   20   uniform  0.966667  [1.0, 1.0, 0.9583333333333334, 0.9583333333333...\n",
       "5   40   uniform  0.966667  [0.9791666666666666, 1.0, 0.9791666666666666, ...\n",
       "6   60   uniform  0.983333  [1.0, 1.0, 0.9791666666666666, 0.9583333333333...\n",
       "7  100   uniform  0.983333  [0.9791666666666666, 1.0, 0.9791666666666666, ...\n",
       "0    2  distance  0.983333  [1.0, 0.9791666666666666, 0.9791666666666666, ...\n",
       "1    5  distance  0.983333  [0.9791666666666666, 1.0, 0.9791666666666666, ...\n",
       "2    7  distance  0.983333  [0.9791666666666666, 1.0, 0.9583333333333334, ...\n",
       "3   10  distance  0.983333  [1.0, 1.0, 0.9583333333333334, 0.9583333333333...\n",
       "4   20  distance  0.983333  [1.0, 1.0, 0.9583333333333334, 0.9583333333333...\n",
       "5   40  distance  0.983333  [0.9791666666666666, 1.0, 0.9583333333333334, ...\n",
       "6   60  distance  0.983333  [1.0, 1.0, 0.9791666666666666, 0.9583333333333...\n",
       "7  100  distance  0.983333  [0.9791666666666666, 1.0, 0.9791666666666666, ..."
      ]
     },
     "execution_count": 47,
     "metadata": {},
     "output_type": "execute_result"
    }
   ],
   "source": [
    "# Your cross-validation code here\n",
    "test_df"
   ]
  },
  {
   "cell_type": "markdown",
   "metadata": {},
   "source": [
    "Your answer here"
   ]
  },
  {
   "cell_type": "markdown",
   "metadata": {},
   "source": [
    "<div style=\"background-color:#C2F5DD\">\n",
    "\n",
    "### Exercise 2\n",
    "\n",
    "Write some code in the following cell to predict the values for `X_test` and calculate the classification accuracy for the toy SVC model defined near the end of Section 3.\n",
    "\n"
   ]
  },
  {
   "cell_type": "code",
   "execution_count": null,
   "metadata": {},
   "outputs": [],
   "source": [
    "# Calculate model prediction\n"
   ]
  },
  {
   "cell_type": "code",
   "execution_count": null,
   "metadata": {},
   "outputs": [],
   "source": [
    "# Calculate classification accuracy\n"
   ]
  },
  {
   "cell_type": "markdown",
   "metadata": {},
   "source": [
    "<div style=\"background-color:#C2F5DD\">\n",
    "\n",
    "### Exercise 3\n",
    "\n",
    "We will now try varying the hyperparameters for the SVC model for our toy data. \n",
    "    \n",
    "* Use the `help` function to look up the hyperparameters for support vector classification *(hint: you can use `help(SVC)`)*\n",
    "* Try varying the hyperparameters and checking your results using both cross validation and test classification accuracy\n",
    "\n",
    "    \n",
    "Record your results in a pandas DataFrame, including columns for each hyperparameter you vary and for the cross validation and test classification accuracies. Display the DataFrame at the end to get a table view of your results.\n",
    "    \n",
    "How do your SVC results compare to your k-NN results? Does one seem to perform better on test data than the other? What about cross-validation performance? Write your answers in the Markdown cell below."
   ]
  },
  {
   "cell_type": "code",
   "execution_count": null,
   "metadata": {},
   "outputs": [],
   "source": [
    "# Define your hyperparameters\n",
    "\n",
    "\n"
   ]
  },
  {
   "cell_type": "code",
   "execution_count": null,
   "metadata": {},
   "outputs": [],
   "source": [
    "# Define your model\n",
    "\n"
   ]
  },
  {
   "cell_type": "code",
   "execution_count": null,
   "metadata": {},
   "outputs": [],
   "source": [
    "# Fit your model\n",
    "\n"
   ]
  },
  {
   "cell_type": "code",
   "execution_count": null,
   "metadata": {},
   "outputs": [],
   "source": [
    "# Calculate cross-validation and test classification accuracy\n",
    "\n"
   ]
  },
  {
   "cell_type": "code",
   "execution_count": null,
   "metadata": {},
   "outputs": [],
   "source": [
    "# Add results to pandas DataFrame\n",
    "\n",
    "\n"
   ]
  },
  {
   "cell_type": "code",
   "execution_count": null,
   "metadata": {},
   "outputs": [],
   "source": [
    "# Print DataFrame\n",
    "\n"
   ]
  },
  {
   "cell_type": "markdown",
   "metadata": {},
   "source": [
    "Your answer here"
   ]
  },
  {
   "cell_type": "markdown",
   "metadata": {},
   "source": [
    "## Iris Dataset"
   ]
  },
  {
   "cell_type": "markdown",
   "metadata": {},
   "source": [
    "<div style=\"background-color:#C2F5DD\">\n",
    "\n",
    "### Exercise 4\n",
    "\n",
    "* Use the ```print``` function to print the description of the Iris dataset. *Hint: have another look at the dictionary keys of the dataset*.\n",
    "* Visualise the Iris dataset using pandas ```scatter_matrix```. Remember that the data must be put into a DataFrame to use this function.\n"
   ]
  },
  {
   "cell_type": "code",
   "execution_count": 65,
   "metadata": {},
   "outputs": [
    {
     "data": {
      "text/plain": [
       "{'data': array([[5.1, 3.5, 1.4, 0.2],\n",
       "        [4.9, 3. , 1.4, 0.2],\n",
       "        [4.7, 3.2, 1.3, 0.2],\n",
       "        [4.6, 3.1, 1.5, 0.2],\n",
       "        [5. , 3.6, 1.4, 0.2],\n",
       "        [5.4, 3.9, 1.7, 0.4],\n",
       "        [4.6, 3.4, 1.4, 0.3],\n",
       "        [5. , 3.4, 1.5, 0.2],\n",
       "        [4.4, 2.9, 1.4, 0.2],\n",
       "        [4.9, 3.1, 1.5, 0.1],\n",
       "        [5.4, 3.7, 1.5, 0.2],\n",
       "        [4.8, 3.4, 1.6, 0.2],\n",
       "        [4.8, 3. , 1.4, 0.1],\n",
       "        [4.3, 3. , 1.1, 0.1],\n",
       "        [5.8, 4. , 1.2, 0.2],\n",
       "        [5.7, 4.4, 1.5, 0.4],\n",
       "        [5.4, 3.9, 1.3, 0.4],\n",
       "        [5.1, 3.5, 1.4, 0.3],\n",
       "        [5.7, 3.8, 1.7, 0.3],\n",
       "        [5.1, 3.8, 1.5, 0.3],\n",
       "        [5.4, 3.4, 1.7, 0.2],\n",
       "        [5.1, 3.7, 1.5, 0.4],\n",
       "        [4.6, 3.6, 1. , 0.2],\n",
       "        [5.1, 3.3, 1.7, 0.5],\n",
       "        [4.8, 3.4, 1.9, 0.2],\n",
       "        [5. , 3. , 1.6, 0.2],\n",
       "        [5. , 3.4, 1.6, 0.4],\n",
       "        [5.2, 3.5, 1.5, 0.2],\n",
       "        [5.2, 3.4, 1.4, 0.2],\n",
       "        [4.7, 3.2, 1.6, 0.2],\n",
       "        [4.8, 3.1, 1.6, 0.2],\n",
       "        [5.4, 3.4, 1.5, 0.4],\n",
       "        [5.2, 4.1, 1.5, 0.1],\n",
       "        [5.5, 4.2, 1.4, 0.2],\n",
       "        [4.9, 3.1, 1.5, 0.2],\n",
       "        [5. , 3.2, 1.2, 0.2],\n",
       "        [5.5, 3.5, 1.3, 0.2],\n",
       "        [4.9, 3.6, 1.4, 0.1],\n",
       "        [4.4, 3. , 1.3, 0.2],\n",
       "        [5.1, 3.4, 1.5, 0.2],\n",
       "        [5. , 3.5, 1.3, 0.3],\n",
       "        [4.5, 2.3, 1.3, 0.3],\n",
       "        [4.4, 3.2, 1.3, 0.2],\n",
       "        [5. , 3.5, 1.6, 0.6],\n",
       "        [5.1, 3.8, 1.9, 0.4],\n",
       "        [4.8, 3. , 1.4, 0.3],\n",
       "        [5.1, 3.8, 1.6, 0.2],\n",
       "        [4.6, 3.2, 1.4, 0.2],\n",
       "        [5.3, 3.7, 1.5, 0.2],\n",
       "        [5. , 3.3, 1.4, 0.2],\n",
       "        [7. , 3.2, 4.7, 1.4],\n",
       "        [6.4, 3.2, 4.5, 1.5],\n",
       "        [6.9, 3.1, 4.9, 1.5],\n",
       "        [5.5, 2.3, 4. , 1.3],\n",
       "        [6.5, 2.8, 4.6, 1.5],\n",
       "        [5.7, 2.8, 4.5, 1.3],\n",
       "        [6.3, 3.3, 4.7, 1.6],\n",
       "        [4.9, 2.4, 3.3, 1. ],\n",
       "        [6.6, 2.9, 4.6, 1.3],\n",
       "        [5.2, 2.7, 3.9, 1.4],\n",
       "        [5. , 2. , 3.5, 1. ],\n",
       "        [5.9, 3. , 4.2, 1.5],\n",
       "        [6. , 2.2, 4. , 1. ],\n",
       "        [6.1, 2.9, 4.7, 1.4],\n",
       "        [5.6, 2.9, 3.6, 1.3],\n",
       "        [6.7, 3.1, 4.4, 1.4],\n",
       "        [5.6, 3. , 4.5, 1.5],\n",
       "        [5.8, 2.7, 4.1, 1. ],\n",
       "        [6.2, 2.2, 4.5, 1.5],\n",
       "        [5.6, 2.5, 3.9, 1.1],\n",
       "        [5.9, 3.2, 4.8, 1.8],\n",
       "        [6.1, 2.8, 4. , 1.3],\n",
       "        [6.3, 2.5, 4.9, 1.5],\n",
       "        [6.1, 2.8, 4.7, 1.2],\n",
       "        [6.4, 2.9, 4.3, 1.3],\n",
       "        [6.6, 3. , 4.4, 1.4],\n",
       "        [6.8, 2.8, 4.8, 1.4],\n",
       "        [6.7, 3. , 5. , 1.7],\n",
       "        [6. , 2.9, 4.5, 1.5],\n",
       "        [5.7, 2.6, 3.5, 1. ],\n",
       "        [5.5, 2.4, 3.8, 1.1],\n",
       "        [5.5, 2.4, 3.7, 1. ],\n",
       "        [5.8, 2.7, 3.9, 1.2],\n",
       "        [6. , 2.7, 5.1, 1.6],\n",
       "        [5.4, 3. , 4.5, 1.5],\n",
       "        [6. , 3.4, 4.5, 1.6],\n",
       "        [6.7, 3.1, 4.7, 1.5],\n",
       "        [6.3, 2.3, 4.4, 1.3],\n",
       "        [5.6, 3. , 4.1, 1.3],\n",
       "        [5.5, 2.5, 4. , 1.3],\n",
       "        [5.5, 2.6, 4.4, 1.2],\n",
       "        [6.1, 3. , 4.6, 1.4],\n",
       "        [5.8, 2.6, 4. , 1.2],\n",
       "        [5. , 2.3, 3.3, 1. ],\n",
       "        [5.6, 2.7, 4.2, 1.3],\n",
       "        [5.7, 3. , 4.2, 1.2],\n",
       "        [5.7, 2.9, 4.2, 1.3],\n",
       "        [6.2, 2.9, 4.3, 1.3],\n",
       "        [5.1, 2.5, 3. , 1.1],\n",
       "        [5.7, 2.8, 4.1, 1.3],\n",
       "        [6.3, 3.3, 6. , 2.5],\n",
       "        [5.8, 2.7, 5.1, 1.9],\n",
       "        [7.1, 3. , 5.9, 2.1],\n",
       "        [6.3, 2.9, 5.6, 1.8],\n",
       "        [6.5, 3. , 5.8, 2.2],\n",
       "        [7.6, 3. , 6.6, 2.1],\n",
       "        [4.9, 2.5, 4.5, 1.7],\n",
       "        [7.3, 2.9, 6.3, 1.8],\n",
       "        [6.7, 2.5, 5.8, 1.8],\n",
       "        [7.2, 3.6, 6.1, 2.5],\n",
       "        [6.5, 3.2, 5.1, 2. ],\n",
       "        [6.4, 2.7, 5.3, 1.9],\n",
       "        [6.8, 3. , 5.5, 2.1],\n",
       "        [5.7, 2.5, 5. , 2. ],\n",
       "        [5.8, 2.8, 5.1, 2.4],\n",
       "        [6.4, 3.2, 5.3, 2.3],\n",
       "        [6.5, 3. , 5.5, 1.8],\n",
       "        [7.7, 3.8, 6.7, 2.2],\n",
       "        [7.7, 2.6, 6.9, 2.3],\n",
       "        [6. , 2.2, 5. , 1.5],\n",
       "        [6.9, 3.2, 5.7, 2.3],\n",
       "        [5.6, 2.8, 4.9, 2. ],\n",
       "        [7.7, 2.8, 6.7, 2. ],\n",
       "        [6.3, 2.7, 4.9, 1.8],\n",
       "        [6.7, 3.3, 5.7, 2.1],\n",
       "        [7.2, 3.2, 6. , 1.8],\n",
       "        [6.2, 2.8, 4.8, 1.8],\n",
       "        [6.1, 3. , 4.9, 1.8],\n",
       "        [6.4, 2.8, 5.6, 2.1],\n",
       "        [7.2, 3. , 5.8, 1.6],\n",
       "        [7.4, 2.8, 6.1, 1.9],\n",
       "        [7.9, 3.8, 6.4, 2. ],\n",
       "        [6.4, 2.8, 5.6, 2.2],\n",
       "        [6.3, 2.8, 5.1, 1.5],\n",
       "        [6.1, 2.6, 5.6, 1.4],\n",
       "        [7.7, 3. , 6.1, 2.3],\n",
       "        [6.3, 3.4, 5.6, 2.4],\n",
       "        [6.4, 3.1, 5.5, 1.8],\n",
       "        [6. , 3. , 4.8, 1.8],\n",
       "        [6.9, 3.1, 5.4, 2.1],\n",
       "        [6.7, 3.1, 5.6, 2.4],\n",
       "        [6.9, 3.1, 5.1, 2.3],\n",
       "        [5.8, 2.7, 5.1, 1.9],\n",
       "        [6.8, 3.2, 5.9, 2.3],\n",
       "        [6.7, 3.3, 5.7, 2.5],\n",
       "        [6.7, 3. , 5.2, 2.3],\n",
       "        [6.3, 2.5, 5. , 1.9],\n",
       "        [6.5, 3. , 5.2, 2. ],\n",
       "        [6.2, 3.4, 5.4, 2.3],\n",
       "        [5.9, 3. , 5.1, 1.8]]),\n",
       " 'target': array([0, 0, 0, 0, 0, 0, 0, 0, 0, 0, 0, 0, 0, 0, 0, 0, 0, 0, 0, 0, 0, 0,\n",
       "        0, 0, 0, 0, 0, 0, 0, 0, 0, 0, 0, 0, 0, 0, 0, 0, 0, 0, 0, 0, 0, 0,\n",
       "        0, 0, 0, 0, 0, 0, 1, 1, 1, 1, 1, 1, 1, 1, 1, 1, 1, 1, 1, 1, 1, 1,\n",
       "        1, 1, 1, 1, 1, 1, 1, 1, 1, 1, 1, 1, 1, 1, 1, 1, 1, 1, 1, 1, 1, 1,\n",
       "        1, 1, 1, 1, 1, 1, 1, 1, 1, 1, 1, 1, 2, 2, 2, 2, 2, 2, 2, 2, 2, 2,\n",
       "        2, 2, 2, 2, 2, 2, 2, 2, 2, 2, 2, 2, 2, 2, 2, 2, 2, 2, 2, 2, 2, 2,\n",
       "        2, 2, 2, 2, 2, 2, 2, 2, 2, 2, 2, 2, 2, 2, 2, 2, 2, 2]),\n",
       " 'frame': None,\n",
       " 'target_names': array(['setosa', 'versicolor', 'virginica'], dtype='<U10'),\n",
       " 'DESCR': '.. _iris_dataset:\\n\\nIris plants dataset\\n--------------------\\n\\n**Data Set Characteristics:**\\n\\n    :Number of Instances: 150 (50 in each of three classes)\\n    :Number of Attributes: 4 numeric, predictive attributes and the class\\n    :Attribute Information:\\n        - sepal length in cm\\n        - sepal width in cm\\n        - petal length in cm\\n        - petal width in cm\\n        - class:\\n                - Iris-Setosa\\n                - Iris-Versicolour\\n                - Iris-Virginica\\n                \\n    :Summary Statistics:\\n\\n    ============== ==== ==== ======= ===== ====================\\n                    Min  Max   Mean    SD   Class Correlation\\n    ============== ==== ==== ======= ===== ====================\\n    sepal length:   4.3  7.9   5.84   0.83    0.7826\\n    sepal width:    2.0  4.4   3.05   0.43   -0.4194\\n    petal length:   1.0  6.9   3.76   1.76    0.9490  (high!)\\n    petal width:    0.1  2.5   1.20   0.76    0.9565  (high!)\\n    ============== ==== ==== ======= ===== ====================\\n\\n    :Missing Attribute Values: None\\n    :Class Distribution: 33.3% for each of 3 classes.\\n    :Creator: R.A. Fisher\\n    :Donor: Michael Marshall (MARSHALL%PLU@io.arc.nasa.gov)\\n    :Date: July, 1988\\n\\nThe famous Iris database, first used by Sir R.A. Fisher. The dataset is taken\\nfrom Fisher\\'s paper. Note that it\\'s the same as in R, but not as in the UCI\\nMachine Learning Repository, which has two wrong data points.\\n\\nThis is perhaps the best known database to be found in the\\npattern recognition literature.  Fisher\\'s paper is a classic in the field and\\nis referenced frequently to this day.  (See Duda & Hart, for example.)  The\\ndata set contains 3 classes of 50 instances each, where each class refers to a\\ntype of iris plant.  One class is linearly separable from the other 2; the\\nlatter are NOT linearly separable from each other.\\n\\n.. topic:: References\\n\\n   - Fisher, R.A. \"The use of multiple measurements in taxonomic problems\"\\n     Annual Eugenics, 7, Part II, 179-188 (1936); also in \"Contributions to\\n     Mathematical Statistics\" (John Wiley, NY, 1950).\\n   - Duda, R.O., & Hart, P.E. (1973) Pattern Classification and Scene Analysis.\\n     (Q327.D83) John Wiley & Sons.  ISBN 0-471-22361-1.  See page 218.\\n   - Dasarathy, B.V. (1980) \"Nosing Around the Neighborhood: A New System\\n     Structure and Classification Rule for Recognition in Partially Exposed\\n     Environments\".  IEEE Transactions on Pattern Analysis and Machine\\n     Intelligence, Vol. PAMI-2, No. 1, 67-71.\\n   - Gates, G.W. (1972) \"The Reduced Nearest Neighbor Rule\".  IEEE Transactions\\n     on Information Theory, May 1972, 431-433.\\n   - See also: 1988 MLC Proceedings, 54-64.  Cheeseman et al\"s AUTOCLASS II\\n     conceptual clustering system finds 3 classes in the data.\\n   - Many, many more ...',\n",
       " 'feature_names': ['sepal length (cm)',\n",
       "  'sepal width (cm)',\n",
       "  'petal length (cm)',\n",
       "  'petal width (cm)'],\n",
       " 'filename': 'iris.csv',\n",
       " 'data_module': 'sklearn.datasets.data'}"
      ]
     },
     "execution_count": 65,
     "metadata": {},
     "output_type": "execute_result"
    }
   ],
   "source": [
    "# Print the description\n",
    "iris"
   ]
  },
  {
   "cell_type": "code",
   "execution_count": 77,
   "metadata": {},
   "outputs": [],
   "source": [
    "# Construct a DataFrame of the Iris data\n",
    "iris_df=pd.DataFrame(iris['data'],columns=['sepal length','sepal width','petal length','petal width'])\n",
    "targets=iris['target']"
   ]
  },
  {
   "cell_type": "code",
   "execution_count": 78,
   "metadata": {},
   "outputs": [
    {
     "data": {
      "text/plain": [
       "array([[<Axes: xlabel='sepal length', ylabel='sepal length'>,\n",
       "        <Axes: xlabel='sepal width', ylabel='sepal length'>,\n",
       "        <Axes: xlabel='petal length', ylabel='sepal length'>,\n",
       "        <Axes: xlabel='petal width', ylabel='sepal length'>],\n",
       "       [<Axes: xlabel='sepal length', ylabel='sepal width'>,\n",
       "        <Axes: xlabel='sepal width', ylabel='sepal width'>,\n",
       "        <Axes: xlabel='petal length', ylabel='sepal width'>,\n",
       "        <Axes: xlabel='petal width', ylabel='sepal width'>],\n",
       "       [<Axes: xlabel='sepal length', ylabel='petal length'>,\n",
       "        <Axes: xlabel='sepal width', ylabel='petal length'>,\n",
       "        <Axes: xlabel='petal length', ylabel='petal length'>,\n",
       "        <Axes: xlabel='petal width', ylabel='petal length'>],\n",
       "       [<Axes: xlabel='sepal length', ylabel='petal width'>,\n",
       "        <Axes: xlabel='sepal width', ylabel='petal width'>,\n",
       "        <Axes: xlabel='petal length', ylabel='petal width'>,\n",
       "        <Axes: xlabel='petal width', ylabel='petal width'>]], dtype=object)"
      ]
     },
     "execution_count": 78,
     "metadata": {},
     "output_type": "execute_result"
    },
    {
     "data": {
      "image/png": "[encoded data removed]",
      "text/plain": [
       "<Figure size 600x600 with 16 Axes>"
      ]
     },
     "metadata": {},
     "output_type": "display_data"
    }
   ],
   "source": [
    "# Plot the scatter matrix\n",
    "pd.plotting.scatter_matrix(iris_df, c=targets, figsize = (6,6), hist_kwds={'edgecolor':'black','alpha':0.5},cmap = cm.cividis)\n"
   ]
  },
  {
   "cell_type": "markdown",
   "metadata": {},
   "source": [
    "<div style=\"background-color:#C2F5DD\">\n",
    "\n",
    "\n",
    "* From these plots, what can you say about the three classes here? \n",
    "* Are there any immediately obvious ways to separate any class?\n",
    "\n",
    "Write a short answer in the Markdown cell below.\n"
   ]
  },
  {
   "cell_type": "markdown",
   "metadata": {},
   "source": [
    "petal length and petal width provide good separation against all other params\n"
   ]
  },
  {
   "cell_type": "markdown",
   "metadata": {},
   "source": [
    "<div style=\"background-color:#C2F5DD\">\n",
    "Once you are happy with the dataset, we will move on to applying some ML techniques to try to classify these irises."
   ]
  },
  {
   "cell_type": "markdown",
   "metadata": {},
   "source": [
    "## k-NN classification"
   ]
  },
  {
   "cell_type": "markdown",
   "metadata": {},
   "source": [
    "<div style=\"background-color:#C2F5DD\">\n",
    "\n",
    "### Exercise 5\n",
    "\n",
    "Much like we did for the toy model, we are going to try applying k-NN to the Iris dataset. \n",
    "\n",
    "* First, prepare the dataset for the k-NN - remember to split into train & test datasets\n",
    "* Define the k-NN, including hyperparameters. Start with using uniform weights and k = 5.\n",
    "* Train the k-NN\n",
    "* Predict the test data and calculate the classification accuracy\n",
    "* Calculate the cross-validation score"
   ]
  },
  {
   "cell_type": "code",
   "execution_count": 80,
   "metadata": {},
   "outputs": [],
   "source": [
    "# Prepare the dataset\n",
    "X_train,X_test, \\\n",
    "y_train,y_test = train_test_split(iris_df, targets , random_state=0)\n",
    "\n",
    "\n",
    "# Split into train & test data\n",
    "\n"
   ]
  },
  {
   "cell_type": "code",
   "execution_count": 82,
   "metadata": {},
   "outputs": [],
   "source": [
    "# Define the k-NN\n",
    "neighbours=5\n",
    "weights='uniform'\n",
    "iris_knn=KNeighborsClassifier(neighbours, weights = weights)\n"
   ]
  },
  {
   "cell_type": "code",
   "execution_count": 84,
   "metadata": {},
   "outputs": [
    {
     "data": {
      "text/plain": [
       "array([1.        , 0.95652174, 0.95454545, 0.86363636, 1.        ])"
      ]
     },
     "execution_count": 84,
     "metadata": {},
     "output_type": "execute_result"
    }
   ],
   "source": [
    "# Calculate cross-validation score\n",
    "iris_cross_val=cross_val_score(iris_knn,X_train,y_train)\n",
    "iris_cross_val"
   ]
  },
  {
   "cell_type": "code",
   "execution_count": 85,
   "metadata": {},
   "outputs": [
    {
     "data": {
      "text/html": [
       "<style>#sk-container-id-3 {color: black;}#sk-container-id-3 pre{padding: 0;}#sk-container-id-3 div.sk-toggleable {background-color: white;}#sk-container-id-3 label.sk-toggleable__label {cursor: pointer;display: block;width: 100%;margin-bottom: 0;padding: 0.3em;box-sizing: border-box;text-align: center;}#sk-container-id-3 label.sk-toggleable__label-arrow:before {content: \"▸\";float: left;margin-right: 0.25em;color: #696969;}#sk-container-id-3 label.sk-toggleable__label-arrow:hover:before {color: black;}#sk-container-id-3 div.sk-estimator:hover label.sk-toggleable__label-arrow:before {color: black;}#sk-container-id-3 div.sk-toggleable__content {max-height: 0;max-width: 0;overflow: hidden;text-align: left;background-color: #f0f8ff;}#sk-container-id-3 div.sk-toggleable__content pre {margin: 0.2em;color: black;border-radius: 0.25em;background-color: #f0f8ff;}#sk-container-id-3 input.sk-toggleable__control:checked~div.sk-toggleable__content {max-height: 200px;max-width: 100%;overflow: auto;}#sk-container-id-3 input.sk-toggleable__control:checked~label.sk-toggleable__label-arrow:before {content: \"▾\";}#sk-container-id-3 div.sk-estimator input.sk-toggleable__control:checked~label.sk-toggleable__label {background-color: #d4ebff;}#sk-container-id-3 div.sk-label input.sk-toggleable__control:checked~label.sk-toggleable__label {background-color: #d4ebff;}#sk-container-id-3 input.sk-hidden--visually {border: 0;clip: rect(1px 1px 1px 1px);clip: rect(1px, 1px, 1px, 1px);height: 1px;margin: -1px;overflow: hidden;padding: 0;position: absolute;width: 1px;}#sk-container-id-3 div.sk-estimator {font-family: monospace;background-color: #f0f8ff;border: 1px dotted black;border-radius: 0.25em;box-sizing: border-box;margin-bottom: 0.5em;}#sk-container-id-3 div.sk-estimator:hover {background-color: #d4ebff;}#sk-container-id-3 div.sk-parallel-item::after {content: \"\";width: 100%;border-bottom: 1px solid gray;flex-grow: 1;}#sk-container-id-3 div.sk-label:hover label.sk-toggleable__label {background-color: #d4ebff;}#sk-container-id-3 div.sk-serial::before {content: \"\";position: absolute;border-left: 1px solid gray;box-sizing: border-box;top: 0;bottom: 0;left: 50%;z-index: 0;}#sk-container-id-3 div.sk-serial {display: flex;flex-direction: column;align-items: center;background-color: white;padding-right: 0.2em;padding-left: 0.2em;position: relative;}#sk-container-id-3 div.sk-item {position: relative;z-index: 1;}#sk-container-id-3 div.sk-parallel {display: flex;align-items: stretch;justify-content: center;background-color: white;position: relative;}#sk-container-id-3 div.sk-item::before, #sk-container-id-3 div.sk-parallel-item::before {content: \"\";position: absolute;border-left: 1px solid gray;box-sizing: border-box;top: 0;bottom: 0;left: 50%;z-index: -1;}#sk-container-id-3 div.sk-parallel-item {display: flex;flex-direction: column;z-index: 1;position: relative;background-color: white;}#sk-container-id-3 div.sk-parallel-item:first-child::after {align-self: flex-end;width: 50%;}#sk-container-id-3 div.sk-parallel-item:last-child::after {align-self: flex-start;width: 50%;}#sk-container-id-3 div.sk-parallel-item:only-child::after {width: 0;}#sk-container-id-3 div.sk-dashed-wrapped {border: 1px dashed gray;margin: 0 0.4em 0.5em 0.4em;box-sizing: border-box;padding-bottom: 0.4em;background-color: white;}#sk-container-id-3 div.sk-label label {font-family: monospace;font-weight: bold;display: inline-block;line-height: 1.2em;}#sk-container-id-3 div.sk-label-container {text-align: center;}#sk-container-id-3 div.sk-container {/* jupyter's `normalize.less` sets `[hidden] { display: none; }` but bootstrap.min.css set `[hidden] { display: none !important; }` so we also need the `!important` here to be able to override the default hidden behavior on the sphinx rendered scikit-learn.org. See: https://github.com/scikit-learn/scikit-learn/issues/21755 */display: inline-block !important;position: relative;}#sk-container-id-3 div.sk-text-repr-fallback {display: none;}</style><div id=\"sk-container-id-3\" class=\"sk-top-container\"><div class=\"sk-text-repr-fallback\"><pre>KNeighborsClassifier()</pre><b>In a Jupyter environment, please rerun this cell to show the HTML representation or trust the notebook. <br />On GitHub, the HTML representation is unable to render, please try loading this page with nbviewer.org.</b></div><div class=\"sk-container\" hidden><div class=\"sk-item\"><div class=\"sk-estimator sk-toggleable\"><input class=\"sk-toggleable__control sk-hidden--visually\" id=\"sk-estimator-id-3\" type=\"checkbox\" checked><label for=\"sk-estimator-id-3\" class=\"sk-toggleable__label sk-toggleable__label-arrow\">KNeighborsClassifier</label><div class=\"sk-toggleable__content\"><pre>KNeighborsClassifier()</pre></div></div></div></div></div>"
      ],
      "text/plain": [
       "KNeighborsClassifier()"
      ]
     },
     "execution_count": 85,
     "metadata": {},
     "output_type": "execute_result"
    }
   ],
   "source": [
    "# Train the k-NN\n",
    "iris_knn.fit(X_train,y_train)"
   ]
  },
  {
   "cell_type": "code",
   "execution_count": 87,
   "metadata": {},
   "outputs": [
    {
     "data": {
      "text/plain": [
       "0.9736842105263158"
      ]
     },
     "execution_count": 87,
     "metadata": {},
     "output_type": "execute_result"
    }
   ],
   "source": [
    "# Predict test data\n",
    "y_pred=iris_knn.predict(X_test)\n",
    "\n",
    "# Calculate classification accuracy\n",
    "iris_acc=accuracy_score(y_test,y_pred)\n",
    "iris_acc"
   ]
  },
  {
   "cell_type": "markdown",
   "metadata": {},
   "source": [
    "<div style=\"background-color:#C2F5DD\">\n",
    "\n",
    "### Exercise 6\n",
    "\n",
    "Now that you have tried using a k-NN for the Iris dataset, try varying the hyperparameters to see how good a performance you can get. \n",
    "\n",
    "* Make sure to record your results & the corresponding hyperparameters in a pandas DataFrame as we have done previously.\n",
    "* Remember you can use the ```help``` function to see what arguments to ```KNeighborsClassifier``` do\n",
    "* Remember to use cross-validation each time\n",
    "* You have calculated the overall accuracy so far. Try calculating the accuracy for each class of iris. *(Hint: you will need to separate your test data into each individual class)*\n",
    "\n",
    "    \n",
    "Are there any particular classes that your model seems to perform well/poorly on? Where might it get \"confused\" between different classes? Write your answer in the Markdown cell below.\n"
   ]
  },
  {
   "cell_type": "code",
   "execution_count": null,
   "metadata": {},
   "outputs": [],
   "source": [
    "# Define hyperparameters\n",
    "\n",
    "\n"
   ]
  },
  {
   "cell_type": "code",
   "execution_count": null,
   "metadata": {},
   "outputs": [],
   "source": [
    "# Define & train model for a given set of hyperparameters\n",
    "\n"
   ]
  },
  {
   "cell_type": "code",
   "execution_count": null,
   "metadata": {},
   "outputs": [],
   "source": [
    "# Predict test data & calculate classification accuracy\n",
    "\n"
   ]
  },
  {
   "cell_type": "code",
   "execution_count": null,
   "metadata": {},
   "outputs": [],
   "source": [
    "# Calculate cross-validation score\n",
    "\n"
   ]
  },
  {
   "cell_type": "code",
   "execution_count": null,
   "metadata": {},
   "outputs": [],
   "source": [
    "# Add your results to pandas DataFrame\n",
    "\n"
   ]
  },
  {
   "cell_type": "code",
   "execution_count": null,
   "metadata": {},
   "outputs": [],
   "source": [
    "# Calculate accuracy per class\n",
    "\n"
   ]
  },
  {
   "cell_type": "markdown",
   "metadata": {},
   "source": [
    "Your answer here"
   ]
  },
  {
   "cell_type": "markdown",
   "metadata": {},
   "source": [
    "## Support Vector Classification (SVC)"
   ]
  },
  {
   "cell_type": "markdown",
   "metadata": {},
   "source": [
    "<div style=\"background-color:#C2F5DD\">\n",
    "\n",
    "### Exercise 7\n",
    "\n",
    "Now we are going to do the same analysis, using SVC. As mentioned before, you will see this algorithm in more detail next week, but you can still apply the same syntax as for the k-NN. As before:\n",
    "\n",
    "* Prepare the dataset - keep the same train/test split (it is determined randomly, can you do anything about this?) to compare with k-NN\n",
    "* Define the SVC, including hyperparameters. Use the same hyperparameters as the SVC we defined for the toy data.\n",
    "* Train the SVC\n",
    "* Predict the test data and calculate the classification accuracy\n",
    "* Calculate the cross-validation score"
   ]
  },
  {
   "cell_type": "code",
   "execution_count": null,
   "metadata": {},
   "outputs": [],
   "source": [
    "# Prepare the dataset\n",
    "\n",
    "\n",
    "# Split into train & test data\n",
    "\n"
   ]
  },
  {
   "cell_type": "code",
   "execution_count": null,
   "metadata": {},
   "outputs": [],
   "source": [
    "# Define the SVC (including hyperparameters)\n",
    "\n",
    "\n",
    "\n",
    "\n"
   ]
  },
  {
   "cell_type": "code",
   "execution_count": null,
   "metadata": {},
   "outputs": [],
   "source": [
    "# Calculate cross validation score\n",
    "\n"
   ]
  },
  {
   "cell_type": "code",
   "execution_count": null,
   "metadata": {},
   "outputs": [],
   "source": [
    "# Train the SVC\n",
    "\n"
   ]
  },
  {
   "cell_type": "code",
   "execution_count": null,
   "metadata": {},
   "outputs": [],
   "source": [
    "# Predict test data\n",
    "\n",
    "\n",
    "# Calculate classification accuracy\n",
    "\n"
   ]
  },
  {
   "cell_type": "markdown",
   "metadata": {},
   "source": [
    "<div style=\"background-color:#C2F5DD\">\n",
    "\n",
    "### Exercise 8\n",
    "\n",
    "Once again, now try varying the model hyperparameters to get the best performance you can. Steps are the same as before:\n",
    "\n",
    "* Make sure to record your results & the corresponding hyperparameters, and record them in a pandas DataFrame.\n",
    "* Remember you can use the ```help``` function to see what arguments to ```SVC``` do\n",
    "* Remember to use cross-validation each time\n",
    "\n",
    "    \n",
    "Are there any particular classes that your model seems to perform well/poorly on? Where might it get \"confused\" between different classes? Answer in the Markdown cell below.\n"
   ]
  },
  {
   "cell_type": "code",
   "execution_count": null,
   "metadata": {},
   "outputs": [],
   "source": [
    "# Define hyperparameters\n",
    "\n",
    "\n"
   ]
  },
  {
   "cell_type": "code",
   "execution_count": null,
   "metadata": {},
   "outputs": [],
   "source": [
    "# Define model\n",
    "\n"
   ]
  },
  {
   "cell_type": "code",
   "execution_count": null,
   "metadata": {},
   "outputs": [],
   "source": [
    "# Calculate cross-validation score\n",
    "\n"
   ]
  },
  {
   "cell_type": "code",
   "execution_count": null,
   "metadata": {},
   "outputs": [],
   "source": [
    "# Predict test data & calculate classification accuracy\n",
    "\n"
   ]
  },
  {
   "cell_type": "code",
   "execution_count": null,
   "metadata": {},
   "outputs": [],
   "source": [
    "# Add results to pandas DataFrame\n",
    "\n"
   ]
  },
  {
   "cell_type": "markdown",
   "metadata": {},
   "source": [
    "Your answer here"
   ]
  },
  {
   "cell_type": "markdown",
   "metadata": {},
   "source": [
    "<div style=\"background-color:#C2F5DD\">\n",
    "\n",
    "### Exercise 9\n",
    "\n",
    "Finally, which model performed the best, and for what hyperparameters? Compare k-NN & SVC."
   ]
  },
  {
   "cell_type": "markdown",
   "metadata": {},
   "source": [
    "Fill in this cell with your findings"
   ]
  }
 ],
 "metadata": {
  "kernelspec": {
   "display_name": "Python 3 (ipykernel)",
   "language": "python",
   "name": "python3"
  },
  "language_info": {
   "codemirror_mode": {
    "name": "ipython",
    "version": 3
   },
   "file_extension": ".py",
   "mimetype": "text/x-python",
   "name": "python",
   "nbconvert_exporter": "python",
   "pygments_lexer": "ipython3",
   "version": "3.8.18"
  }
 },
 "nbformat": 4,
 "nbformat_minor": 2
}
